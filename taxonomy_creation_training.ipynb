{
 "cells": [
  {
   "cell_type": "code",
   "execution_count": 185,
   "metadata": {},
   "outputs": [],
   "source": [
    "import pandas as pd\n",
    "import sqlite3\n",
    "import csv\n",
    "import matplotlib.pyplot as plt\n",
    "import seaborn as sns\n",
    "import numpy as np\n",
    "import re\n",
    "import os\n",
    "from wordcloud import WordCloud\n",
    "import datetime as dt\n",
    "from nltk.corpus import stopwords\n",
    "from nltk.tokenize import word_tokenize\n",
    "from nltk.stem.snowball import SnowballStemmer\n",
    "from sklearn.feature_extraction.text import CountVectorizer\n",
    "from sklearn.feature_extraction.text import TfidfVectorizer\n",
    "from sklearn.multiclass import OneVsRestClassifier\n",
    "from sklearn.linear_model import SGDClassifier\n",
    "from sklearn import metrics\n",
    "from sklearn.metrics import f1_score,precision_score,recall_score\n",
    "from sklearn import svm\n",
    "from sklearn.linear_model import LogisticRegression\n",
    "from sklearn.naive_bayes import GaussianNB\n",
    "from datetime import datetime\n",
    "from tqdm import tqdm\n",
    "import scipy.sparse\n",
    "import pickle\n",
    "\n",
    "import warnings\n",
    "warnings.filterwarnings(\"ignore\")"
   ]
  },
  {
   "cell_type": "markdown",
   "metadata": {},
   "source": [
    "# Loading Raw Train Dataset:"
   ]
  },
  {
   "cell_type": "code",
   "execution_count": 3,
   "metadata": {},
   "outputs": [
    {
     "name": "stdout",
     "output_type": "stream",
     "text": [
      "Number of rows in dataset: (6034195, 1)\n"
     ]
    }
   ],
   "source": [
    "data = pd.read_csv(\"data/Train.csv\", usecols=[\"Id\"])\n",
    "print(\"Number of rows in dataset:\",data.shape)"
   ]
  },
  {
   "cell_type": "code",
   "execution_count": 4,
   "metadata": {},
   "outputs": [
    {
     "name": "stdout",
     "output_type": "stream",
     "text": [
      "Columns in Train Data: Index(['Id', 'Title', 'Body', 'Tags'], dtype='object')\n"
     ]
    },
    {
     "data": {
      "text/html": [
       "<div>\n",
       "<style scoped>\n",
       "    .dataframe tbody tr th:only-of-type {\n",
       "        vertical-align: middle;\n",
       "    }\n",
       "\n",
       "    .dataframe tbody tr th {\n",
       "        vertical-align: top;\n",
       "    }\n",
       "\n",
       "    .dataframe thead th {\n",
       "        text-align: right;\n",
       "    }\n",
       "</style>\n",
       "<table border=\"1\" class=\"dataframe\">\n",
       "  <thead>\n",
       "    <tr style=\"text-align: right;\">\n",
       "      <th></th>\n",
       "      <th>Id</th>\n",
       "      <th>Title</th>\n",
       "      <th>Body</th>\n",
       "      <th>Tags</th>\n",
       "    </tr>\n",
       "  </thead>\n",
       "  <tbody>\n",
       "    <tr>\n",
       "      <th>0</th>\n",
       "      <td>1</td>\n",
       "      <td>How to check if an uploaded file is an image w...</td>\n",
       "      <td>&lt;p&gt;I'd like to check if an uploaded file is an...</td>\n",
       "      <td>php image-processing file-upload upload mime-t...</td>\n",
       "    </tr>\n",
       "    <tr>\n",
       "      <th>1</th>\n",
       "      <td>2</td>\n",
       "      <td>How can I prevent firefox from closing when I ...</td>\n",
       "      <td>&lt;p&gt;In my favorite editor (vim), I regularly us...</td>\n",
       "      <td>firefox</td>\n",
       "    </tr>\n",
       "    <tr>\n",
       "      <th>2</th>\n",
       "      <td>3</td>\n",
       "      <td>R Error Invalid type (list) for variable</td>\n",
       "      <td>&lt;p&gt;I am import matlab file and construct a dat...</td>\n",
       "      <td>r matlab machine-learning</td>\n",
       "    </tr>\n",
       "    <tr>\n",
       "      <th>3</th>\n",
       "      <td>4</td>\n",
       "      <td>How do I replace special characters in a URL?</td>\n",
       "      <td>&lt;p&gt;This is probably very simple, but I simply ...</td>\n",
       "      <td>c# url encoding</td>\n",
       "    </tr>\n",
       "    <tr>\n",
       "      <th>4</th>\n",
       "      <td>5</td>\n",
       "      <td>How to modify whois contact details?</td>\n",
       "      <td>&lt;pre&gt;&lt;code&gt;function modify(.......)\\n{\\n  $mco...</td>\n",
       "      <td>php api file-get-contents</td>\n",
       "    </tr>\n",
       "  </tbody>\n",
       "</table>\n",
       "</div>"
      ],
      "text/plain": [
       "   Id                                              Title  \\\n",
       "0   1  How to check if an uploaded file is an image w...   \n",
       "1   2  How can I prevent firefox from closing when I ...   \n",
       "2   3           R Error Invalid type (list) for variable   \n",
       "3   4      How do I replace special characters in a URL?   \n",
       "4   5               How to modify whois contact details?   \n",
       "\n",
       "                                                Body  \\\n",
       "0  <p>I'd like to check if an uploaded file is an...   \n",
       "1  <p>In my favorite editor (vim), I regularly us...   \n",
       "2  <p>I am import matlab file and construct a dat...   \n",
       "3  <p>This is probably very simple, but I simply ...   \n",
       "4  <pre><code>function modify(.......)\\n{\\n  $mco...   \n",
       "\n",
       "                                                Tags  \n",
       "0  php image-processing file-upload upload mime-t...  \n",
       "1                                            firefox  \n",
       "2                          r matlab machine-learning  \n",
       "3                                    c# url encoding  \n",
       "4                          php api file-get-contents  "
      ]
     },
     "execution_count": 4,
     "metadata": {},
     "output_type": "execute_result"
    }
   ],
   "source": [
    "data = pd.read_csv(\"data/Train.csv\", nrows=5)\n",
    "print(\"Columns in Train Data:\",data.columns)\n",
    "data.head()"
   ]
  },
  {
   "cell_type": "markdown",
   "metadata": {},
   "source": [
    "# Exploratory Data Analysis:"
   ]
  },
  {
   "cell_type": "markdown",
   "metadata": {},
   "source": [
    "## Preprocessing of Data:"
   ]
  },
  {
   "cell_type": "code",
   "execution_count": null,
   "metadata": {},
   "outputs": [],
   "source": [
    "def striphtml(data):\n",
    "    cleanr = re.compile('<.*?>')\n",
    "    cleantext = re.sub(cleanr, ' ', str(data))\n",
    "    return cleantext\n",
    "stop_words = set(stopwords.words('english'))\n",
    "stemmer = SnowballStemmer(\"english\")"
   ]
  },
  {
   "cell_type": "code",
   "execution_count": null,
   "metadata": {},
   "outputs": [],
   "source": [
    "with open('Train.csv', mode='r', encoding='utf-8') as csv_file:\n",
    "    csv_reader = csv.DictReader(csv_file)\n",
    "    line=0\n",
    "    count=1\n",
    "    for row in tqdm(csv_reader):\n",
    "        Id, Title, Body, Tags = row[\"Id\"], row[\"Title\"], row[\"Body\"], row[\"Tags\"]\n",
    "        line+=1\n",
    "        is_code=0\n",
    "        code_str=\"\"\n",
    "        \n",
    "        if '<code>' in Body:\n",
    "            is_code = 1\n",
    "            code = re.findall('<code>(.*?)</code>', Body, flags=re.MULTILINE|re.DOTALL)\n",
    "            code_str = code_str.join(code)\n",
    "        \n",
    "        question=re.sub('<code>(.*?)</code>', '', Body, flags=re.MULTILINE|re.DOTALL)\n",
    "        \n",
    "        question=striphtml(question.encode('utf-8'))\n",
    "        question=re.sub(r'[^A-Za-z0-9#+.\\-]+',' ',question)\n",
    "        words=word_tokenize(str(question.lower()))\n",
    "        question=' '.join(str(stemmer.stem(j)) for j in words if j not in stop_words and (len(j)!=1 or j=='c' or j=='r'))\n",
    "        \n",
    "        Title=striphtml(Title.encode('utf-8'))\n",
    "        Title=re.sub(r'[^A-Za-z0-9#+.\\-]+',' ',Title)\n",
    "        words=word_tokenize(str(Title.lower()))\n",
    "        Title=' '.join(str(stemmer.stem(j)) for j in words if j not in stop_words and (len(j)!=1 or j=='c' or j=='r'))\n",
    "        \n",
    "        \n",
    "        sent=\"\"\n",
    "        dup = dict()\n",
    "        for ch in code_str:\n",
    "            ch=ch.lower()\n",
    "            if(ch.isalpha()):\n",
    "                sent+=(ch)\n",
    "            if(ch in [' ','.','(',')','{','}','[',']','_','-','/','$','&','<','>',':',';','/','\\\\',\"'\",'?','!','@','#','%','^','*','+','=','|']):\n",
    "                if(ch not in dup):\n",
    "                    dup[ch]=(int)(1)\n",
    "                if(dup.get(ch)<=5):\n",
    "                    dup[ch]=(int)(dup.get(ch)+1)\n",
    "                    sent+=\" \"+ch+\" \"\n",
    "                else:\n",
    "                    sent+=\" \"\n",
    "\n",
    "        dup = dict()\n",
    "        sent1=\"\"\n",
    "        for ch in sent.split():\n",
    "            if(ch not in dup):\n",
    "                dup[ch]=(int)(1)\n",
    "            if(dup.get(ch)<=10):\n",
    "                dup[ch]=(int)(dup.get(ch)+1)\n",
    "                sent1+=\" \"+ch+\" \"\n",
    "            else:\n",
    "                sent1+=\" \"\n",
    "\n",
    "\n",
    "        sent1=' '.join(sent1.split())\n",
    "        \n",
    "        row_series = pd.Series((Id,Title,question,sent1,is_code,Tags),index=[\"Id\",\"Title\",\"Question\",\"code\",\"is_code\",\"Tags\"])\n",
    "        preprocessed_data = preprocessed_data.append(row_series, ignore_index = True)\n",
    "        \n",
    "        if(line%10000==0):\n",
    "            preprocessed_data.to_csv(\"preprocessed/preprocessed_data\"+str(count)+\".csv\")\n",
    "            preprocessed_data = pd.DataFrame(columns=[\"Id\",\"Title\",\"Question\",\"code\",\"is_code\",\"Tags\"])\n",
    "\n",
    "preprocessed_data.to_csv(\"preprocessed/preprocessed_data\"+str(count+1)+\".csv\")\n",
    "csv_file.close()"
   ]
  },
  {
   "cell_type": "code",
   "execution_count": null,
   "metadata": {},
   "outputs": [],
   "source": [
    "preprocessed_data.to_csv(\"preprocessed/preprocessed_data604.csv\")"
   ]
  },
  {
   "cell_type": "markdown",
   "metadata": {},
   "source": [
    "### Combining all preprocessed data:"
   ]
  },
  {
   "cell_type": "code",
   "execution_count": null,
   "metadata": {},
   "outputs": [],
   "source": [
    "preprocessed_data_all = pd.read_csv(\"preprocessed/preprocessed_data1.csv\")"
   ]
  },
  {
   "cell_type": "code",
   "execution_count": null,
   "metadata": {},
   "outputs": [],
   "source": [
    "for i in tqdm(range(2,605)):\n",
    "    preprocessed_data_all = pd.concat([preprocessed_data_all,pd.read_csv(\"preprocessed/preprocessed_data\"+str(i)+\".csv\")])"
   ]
  },
  {
   "cell_type": "code",
   "execution_count": 6,
   "metadata": {},
   "outputs": [
    {
     "data": {
      "text/plain": [
       "(6034195, 7)"
      ]
     },
     "execution_count": 6,
     "metadata": {},
     "output_type": "execute_result"
    }
   ],
   "source": [
    "preprocessed_data_all.shape"
   ]
  },
  {
   "cell_type": "code",
   "execution_count": null,
   "metadata": {},
   "outputs": [],
   "source": [
    "preprocessed_data_all.to_csv(\"data/final_preprocessed_data.csv\",index=False)"
   ]
  },
  {
   "cell_type": "code",
   "execution_count": 7,
   "metadata": {},
   "outputs": [
    {
     "data": {
      "text/html": [
       "<div>\n",
       "<style scoped>\n",
       "    .dataframe tbody tr th:only-of-type {\n",
       "        vertical-align: middle;\n",
       "    }\n",
       "\n",
       "    .dataframe tbody tr th {\n",
       "        vertical-align: top;\n",
       "    }\n",
       "\n",
       "    .dataframe thead th {\n",
       "        text-align: right;\n",
       "    }\n",
       "</style>\n",
       "<table border=\"1\" class=\"dataframe\">\n",
       "  <thead>\n",
       "    <tr style=\"text-align: right;\">\n",
       "      <th></th>\n",
       "      <th>Unnamed: 0</th>\n",
       "      <th>Id</th>\n",
       "      <th>Title</th>\n",
       "      <th>Question</th>\n",
       "      <th>code</th>\n",
       "      <th>is_code</th>\n",
       "      <th>Tags</th>\n",
       "    </tr>\n",
       "  </thead>\n",
       "  <tbody>\n",
       "    <tr>\n",
       "      <th>0</th>\n",
       "      <td>0</td>\n",
       "      <td>1</td>\n",
       "      <td>check upload file imag without mime type</td>\n",
       "      <td>like check upload file imag file e.g png jpg j...</td>\n",
       "      <td>NaN</td>\n",
       "      <td>0</td>\n",
       "      <td>php image-processing file-upload upload mime-t...</td>\n",
       "    </tr>\n",
       "    <tr>\n",
       "      <th>1</th>\n",
       "      <td>1</td>\n",
       "      <td>2</td>\n",
       "      <td>prevent firefox close press ctrl-w</td>\n",
       "      <td>favorit editor vim regular use ctrl-w execut c...</td>\n",
       "      <td>NaN</td>\n",
       "      <td>0</td>\n",
       "      <td>firefox</td>\n",
       "    </tr>\n",
       "    <tr>\n",
       "      <th>2</th>\n",
       "      <td>2</td>\n",
       "      <td>3</td>\n",
       "      <td>r error invalid type list variabl</td>\n",
       "      <td>import matlab file construct data frame matlab...</td>\n",
       "      <td>error in model . frame . default ( formula = e...</td>\n",
       "      <td>1</td>\n",
       "      <td>r matlab machine-learning</td>\n",
       "    </tr>\n",
       "    <tr>\n",
       "      <th>3</th>\n",
       "      <td>3</td>\n",
       "      <td>4</td>\n",
       "      <td>replac special charact url</td>\n",
       "      <td>probabl simpl simpli find answer basicali want...</td>\n",
       "      <td>NaN</td>\n",
       "      <td>0</td>\n",
       "      <td>c# url encoding</td>\n",
       "    </tr>\n",
       "    <tr>\n",
       "      <th>4</th>\n",
       "      <td>4</td>\n",
       "      <td>5</td>\n",
       "      <td>modifi whoi contact detail</td>\n",
       "      <td>use modifi function display warn mesag pleas h...</td>\n",
       "      <td>function modify ( . . . . . ) { $ mcontact = f...</td>\n",
       "      <td>1</td>\n",
       "      <td>php api file-get-contents</td>\n",
       "    </tr>\n",
       "  </tbody>\n",
       "</table>\n",
       "</div>"
      ],
      "text/plain": [
       "   Unnamed: 0  Id                                     Title  \\\n",
       "0           0   1  check upload file imag without mime type   \n",
       "1           1   2        prevent firefox close press ctrl-w   \n",
       "2           2   3         r error invalid type list variabl   \n",
       "3           3   4                replac special charact url   \n",
       "4           4   5                modifi whoi contact detail   \n",
       "\n",
       "                                            Question  \\\n",
       "0  like check upload file imag file e.g png jpg j...   \n",
       "1  favorit editor vim regular use ctrl-w execut c...   \n",
       "2  import matlab file construct data frame matlab...   \n",
       "3  probabl simpl simpli find answer basicali want...   \n",
       "4  use modifi function display warn mesag pleas h...   \n",
       "\n",
       "                                                code  is_code  \\\n",
       "0                                                NaN        0   \n",
       "1                                                NaN        0   \n",
       "2  error in model . frame . default ( formula = e...        1   \n",
       "3                                                NaN        0   \n",
       "4  function modify ( . . . . . ) { $ mcontact = f...        1   \n",
       "\n",
       "                                                Tags  \n",
       "0  php image-processing file-upload upload mime-t...  \n",
       "1                                            firefox  \n",
       "2                          r matlab machine-learning  \n",
       "3                                    c# url encoding  \n",
       "4                          php api file-get-contents  "
      ]
     },
     "execution_count": 7,
     "metadata": {},
     "output_type": "execute_result"
    }
   ],
   "source": [
    "preprocessed_data_all.head()"
   ]
  },
  {
   "cell_type": "markdown",
   "metadata": {},
   "source": [
    "## Loading of Pre-Processed Data:"
   ]
  },
  {
   "cell_type": "code",
   "execution_count": 5,
   "metadata": {},
   "outputs": [],
   "source": [
    "preprocessed_data = pd.read_csv(\"data/final_preprocessed_data.csv\")"
   ]
  },
  {
   "cell_type": "markdown",
   "metadata": {},
   "source": [
    "## Handling Duplicates:"
   ]
  },
  {
   "cell_type": "code",
   "execution_count": 2,
   "metadata": {},
   "outputs": [],
   "source": [
    "#preprocessed_data_all = pd.read_csv(\"data/final_preprocessed_data_no_dup.csv\")"
   ]
  },
  {
   "cell_type": "code",
   "execution_count": null,
   "metadata": {},
   "outputs": [],
   "source": [
    "preprocessed_data_all = preprocessed_data[~preprocessed_data.duplicated([\"Title\",\"Tags\"], keep='first')]"
   ]
  },
  {
   "cell_type": "code",
   "execution_count": 5,
   "metadata": {},
   "outputs": [
    {
     "name": "stdout",
     "output_type": "stream",
     "text": [
      "Number of duplicate rows : 1848011\n",
      "Percent of duplicate rows : 44.14547951069518 %\n"
     ]
    }
   ],
   "source": [
    "print(\"Number of duplicate rows :\",preprocessed_data.shape[0]-preprocessed_data_all.shape[0])\n",
    "print(\"Percent of duplicate rows :\",((preprocessed_data.shape[0]-preprocessed_data_all.shape[0])/(preprocessed_data.shape[0]))*100,\"%\")"
   ]
  },
  {
   "cell_type": "code",
   "execution_count": 6,
   "metadata": {},
   "outputs": [
    {
     "name": "stdout",
     "output_type": "stream",
     "text": [
      "Number of rows and columns: (4178926, 6)\n"
     ]
    }
   ],
   "source": [
    "print(\"Number of rows and columns:\",preprocessed_data_all.shape)"
   ]
  },
  {
   "cell_type": "code",
   "execution_count": 7,
   "metadata": {},
   "outputs": [
    {
     "data": {
      "text/html": [
       "<div>\n",
       "<style scoped>\n",
       "    .dataframe tbody tr th:only-of-type {\n",
       "        vertical-align: middle;\n",
       "    }\n",
       "\n",
       "    .dataframe tbody tr th {\n",
       "        vertical-align: top;\n",
       "    }\n",
       "\n",
       "    .dataframe thead th {\n",
       "        text-align: right;\n",
       "    }\n",
       "</style>\n",
       "<table border=\"1\" class=\"dataframe\">\n",
       "  <thead>\n",
       "    <tr style=\"text-align: right;\">\n",
       "      <th></th>\n",
       "      <th>Id</th>\n",
       "      <th>Title</th>\n",
       "      <th>Question</th>\n",
       "      <th>code</th>\n",
       "      <th>is_code</th>\n",
       "      <th>Tags</th>\n",
       "    </tr>\n",
       "  </thead>\n",
       "  <tbody>\n",
       "    <tr>\n",
       "      <th>0</th>\n",
       "      <td>1</td>\n",
       "      <td>check upload file imag without mime type</td>\n",
       "      <td>like check upload file imag file e.g png jpg j...</td>\n",
       "      <td>NaN</td>\n",
       "      <td>0</td>\n",
       "      <td>php image-processing file-upload upload mime-t...</td>\n",
       "    </tr>\n",
       "    <tr>\n",
       "      <th>1</th>\n",
       "      <td>2</td>\n",
       "      <td>prevent firefox close press ctrl-w</td>\n",
       "      <td>favorit editor vim regular use ctrl-w execut c...</td>\n",
       "      <td>NaN</td>\n",
       "      <td>0</td>\n",
       "      <td>firefox</td>\n",
       "    </tr>\n",
       "    <tr>\n",
       "      <th>2</th>\n",
       "      <td>3</td>\n",
       "      <td>r error invalid type list variabl</td>\n",
       "      <td>import matlab file construct data frame matlab...</td>\n",
       "      <td>error in model . frame . default ( formula = e...</td>\n",
       "      <td>1</td>\n",
       "      <td>r matlab machine-learning</td>\n",
       "    </tr>\n",
       "    <tr>\n",
       "      <th>3</th>\n",
       "      <td>4</td>\n",
       "      <td>replac special charact url</td>\n",
       "      <td>probabl simpl simpli find answer basicali want...</td>\n",
       "      <td>NaN</td>\n",
       "      <td>0</td>\n",
       "      <td>c# url encoding</td>\n",
       "    </tr>\n",
       "    <tr>\n",
       "      <th>4</th>\n",
       "      <td>5</td>\n",
       "      <td>modifi whoi contact detail</td>\n",
       "      <td>use modifi function display warn mesag pleas h...</td>\n",
       "      <td>function modify ( . . . . . ) { $ mcontact = f...</td>\n",
       "      <td>1</td>\n",
       "      <td>php api file-get-contents</td>\n",
       "    </tr>\n",
       "  </tbody>\n",
       "</table>\n",
       "</div>"
      ],
      "text/plain": [
       "   Id                                     Title  \\\n",
       "0   1  check upload file imag without mime type   \n",
       "1   2        prevent firefox close press ctrl-w   \n",
       "2   3         r error invalid type list variabl   \n",
       "3   4                replac special charact url   \n",
       "4   5                modifi whoi contact detail   \n",
       "\n",
       "                                            Question  \\\n",
       "0  like check upload file imag file e.g png jpg j...   \n",
       "1  favorit editor vim regular use ctrl-w execut c...   \n",
       "2  import matlab file construct data frame matlab...   \n",
       "3  probabl simpl simpli find answer basicali want...   \n",
       "4  use modifi function display warn mesag pleas h...   \n",
       "\n",
       "                                                code  is_code  \\\n",
       "0                                                NaN        0   \n",
       "1                                                NaN        0   \n",
       "2  error in model . frame . default ( formula = e...        1   \n",
       "3                                                NaN        0   \n",
       "4  function modify ( . . . . . ) { $ mcontact = f...        1   \n",
       "\n",
       "                                                Tags  \n",
       "0  php image-processing file-upload upload mime-t...  \n",
       "1                                            firefox  \n",
       "2                          r matlab machine-learning  \n",
       "3                                    c# url encoding  \n",
       "4                          php api file-get-contents  "
      ]
     },
     "execution_count": 7,
     "metadata": {},
     "output_type": "execute_result"
    }
   ],
   "source": [
    "preprocessed_data_all.head()"
   ]
  },
  {
   "cell_type": "markdown",
   "metadata": {},
   "source": [
    "## Finding Tags with null values:"
   ]
  },
  {
   "cell_type": "code",
   "execution_count": 8,
   "metadata": {},
   "outputs": [
    {
     "name": "stdout",
     "output_type": "stream",
     "text": [
      "Number of rows with null tags: 7\n"
     ]
    }
   ],
   "source": [
    "print(\"Number of rows with null tags:\",np.sum(preprocessed_data_all[\"Tags\"].isna()))"
   ]
  },
  {
   "cell_type": "code",
   "execution_count": 9,
   "metadata": {},
   "outputs": [],
   "source": [
    "preprocessed_data_all = preprocessed_data_all[~preprocessed_data_all[\"Tags\"].isna()]"
   ]
  },
  {
   "cell_type": "code",
   "execution_count": 10,
   "metadata": {},
   "outputs": [
    {
     "data": {
      "text/plain": [
       "(4178919, 6)"
      ]
     },
     "execution_count": 10,
     "metadata": {},
     "output_type": "execute_result"
    }
   ],
   "source": [
    "preprocessed_data_all.shape"
   ]
  },
  {
   "cell_type": "markdown",
   "metadata": {},
   "source": [
    "## Finding Title with null values:"
   ]
  },
  {
   "cell_type": "code",
   "execution_count": 11,
   "metadata": {},
   "outputs": [
    {
     "name": "stdout",
     "output_type": "stream",
     "text": [
      "Number of rows with null tags: 142\n"
     ]
    }
   ],
   "source": [
    "print(\"Number of rows with null tags:\",np.sum(preprocessed_data_all[\"Title\"].isna()))"
   ]
  },
  {
   "cell_type": "code",
   "execution_count": 12,
   "metadata": {},
   "outputs": [],
   "source": [
    "preprocessed_data_all = preprocessed_data_all[~preprocessed_data_all[\"Title\"].isna()]"
   ]
  },
  {
   "cell_type": "code",
   "execution_count": 13,
   "metadata": {},
   "outputs": [
    {
     "data": {
      "text/plain": [
       "(4178777, 6)"
      ]
     },
     "execution_count": 13,
     "metadata": {},
     "output_type": "execute_result"
    }
   ],
   "source": [
    "preprocessed_data_all.shape"
   ]
  },
  {
   "cell_type": "markdown",
   "metadata": {},
   "source": [
    "## Finding Question with null values:"
   ]
  },
  {
   "cell_type": "code",
   "execution_count": 14,
   "metadata": {},
   "outputs": [
    {
     "name": "stdout",
     "output_type": "stream",
     "text": [
      "Number of rows with null tags: 2701\n"
     ]
    }
   ],
   "source": [
    "print(\"Number of rows with null tags:\",np.sum(preprocessed_data_all[\"Question\"].isna()))"
   ]
  },
  {
   "cell_type": "code",
   "execution_count": 15,
   "metadata": {},
   "outputs": [],
   "source": [
    "preprocessed_data_all = preprocessed_data_all[~preprocessed_data_all[\"Question\"].isna()]"
   ]
  },
  {
   "cell_type": "code",
   "execution_count": 16,
   "metadata": {},
   "outputs": [
    {
     "data": {
      "text/plain": [
       "(4176076, 6)"
      ]
     },
     "execution_count": 16,
     "metadata": {},
     "output_type": "execute_result"
    }
   ],
   "source": [
    "preprocessed_data_all.shape"
   ]
  },
  {
   "cell_type": "markdown",
   "metadata": {},
   "source": [
    "## EDA on Tags:"
   ]
  },
  {
   "cell_type": "code",
   "execution_count": 17,
   "metadata": {},
   "outputs": [],
   "source": [
    "tag_count = preprocessed_data_all['Tags'].map(lambda x : (len(x.split())))"
   ]
  },
  {
   "cell_type": "code",
   "execution_count": 18,
   "metadata": {},
   "outputs": [
    {
     "data": {
      "text/plain": [
       "3    1199093\n",
       "2    1102709\n",
       "4     810488\n",
       "1     561590\n",
       "5     502196\n",
       "Name: Tags, dtype: int64"
      ]
     },
     "execution_count": 18,
     "metadata": {},
     "output_type": "execute_result"
    }
   ],
   "source": [
    "pd.value_counts(tag_count)"
   ]
  },
  {
   "cell_type": "code",
   "execution_count": 19,
   "metadata": {},
   "outputs": [
    {
     "data": {
      "image/png": "[encoded data removed]",
      "text/plain": [
       "<Figure size 432x288 with 1 Axes>"
      ]
     },
     "metadata": {},
     "output_type": "display_data"
    }
   ],
   "source": [
    "sns.countplot(tag_count)\n",
    "plt.title(\"Count of number of tags in dataset\")\n",
    "plt.ylabel(\"Number of rows\")\n",
    "plt.show()"
   ]
  },
  {
   "cell_type": "markdown",
   "metadata": {},
   "source": [
    "### Finding frequency of each tag"
   ]
  },
  {
   "cell_type": "code",
   "execution_count": 18,
   "metadata": {},
   "outputs": [
    {
     "name": "stderr",
     "output_type": "stream",
     "text": [
      "100%|████████████████████████████████████████████████████████████████████| 4176076/4176076 [00:09<00:00, 441734.55it/s]\n"
     ]
    }
   ],
   "source": [
    "tag_dict={}\n",
    "\n",
    "for line in tqdm(preprocessed_data_all[\"Tags\"]):\n",
    "    for tag in line.split():\n",
    "        if tag not in tag_dict:\n",
    "            tag_dict[tag]=1\n",
    "        else:\n",
    "            tag_dict[tag]=tag_dict[tag]+1"
   ]
  },
  {
   "cell_type": "markdown",
   "metadata": {},
   "source": [
    "#### 20 most occuring tags"
   ]
  },
  {
   "cell_type": "code",
   "execution_count": 19,
   "metadata": {},
   "outputs": [
    {
     "data": {
      "text/plain": [
       "[('c#', 329491),\n",
       " ('java', 297149),\n",
       " ('php', 282019),\n",
       " ('javascript', 263404),\n",
       " ('android', 233301),\n",
       " ('jquery', 220039),\n",
       " ('c++', 142857),\n",
       " ('python', 133064),\n",
       " ('iphone', 127797),\n",
       " ('asp.net', 124961),\n",
       " ('mysql', 121797),\n",
       " ('html', 119545),\n",
       " ('.net', 113348),\n",
       " ('ios', 100476),\n",
       " ('objective-c', 95438),\n",
       " ('sql', 94606),\n",
       " ('css', 93134),\n",
       " ('ruby-on-rails', 83054),\n",
       " ('linux', 78076),\n",
       " ('c', 68616)]"
      ]
     },
     "execution_count": 19,
     "metadata": {},
     "output_type": "execute_result"
    }
   ],
   "source": [
    "from operator import itemgetter\n",
    "tag_dict_sort = sorted(tag_dict.items(), key = itemgetter(1), reverse = True)\n",
    "tag_dict_sort[:20]"
   ]
  },
  {
   "cell_type": "markdown",
   "metadata": {},
   "source": [
    "#### 50 most occuring tags in plot"
   ]
  },
  {
   "cell_type": "code",
   "execution_count": 20,
   "metadata": {},
   "outputs": [
    {
     "data": {
      "image/png": "[encoded data removed]",
      "text/plain": [
       "<Figure size 1080x360 with 1 Axes>"
      ]
     },
     "metadata": {},
     "output_type": "display_data"
    }
   ],
   "source": [
    "num_tags=[]\n",
    "name_tags=[]\n",
    "\n",
    "for x in tag_dict_sort:\n",
    "    num_tags.append(x[1])\n",
    "    name_tags.append(x[0])\n",
    "\n",
    "plt.figure(figsize=(15,5))\n",
    "plt.bar(range(50), num_tags[:50])\n",
    "plt.xticks(range(50), name_tags[:50], rotation=90)\n",
    "plt.grid()\n",
    "plt.show()"
   ]
  },
  {
   "cell_type": "markdown",
   "metadata": {},
   "source": [
    "#### we can observe that tags such as : C# , java , php , javascript , android , jquery are most occuring words."
   ]
  },
  {
   "cell_type": "code",
   "execution_count": 23,
   "metadata": {},
   "outputs": [
    {
     "data": {
      "image/png": "[encoded data removed]",
      "text/plain": [
       "<Figure size 864x360 with 1 Axes>"
      ]
     },
     "metadata": {},
     "output_type": "display_data"
    }
   ],
   "source": [
    "plt.figure(figsize=(12,5))\n",
    "plt.plot(range(0,len(num_tags),1),num_tags)\n",
    "\n",
    "plt.grid()\n",
    "plt.ylabel(\"Tag name\")\n",
    "plt.xlabel(\"Number of times tag appeared\")\n",
    "plt.show()"
   ]
  },
  {
   "cell_type": "markdown",
   "metadata": {},
   "source": [
    "## EDA on Title:"
   ]
  },
  {
   "cell_type": "code",
   "execution_count": 24,
   "metadata": {},
   "outputs": [],
   "source": [
    "title_length=preprocessed_data_all['Title'].map(lambda x : (len(x.split())))"
   ]
  },
  {
   "cell_type": "code",
   "execution_count": 25,
   "metadata": {},
   "outputs": [
    {
     "data": {
      "text/plain": [
       "Text(0.5,1,'Title length distribution')"
      ]
     },
     "execution_count": 25,
     "metadata": {},
     "output_type": "execute_result"
    },
    {
     "data": {
      "image/png": "[encoded data removed]",
      "text/plain": [
       "<Figure size 576x360 with 1 Axes>"
      ]
     },
     "metadata": {},
     "output_type": "display_data"
    }
   ],
   "source": [
    "plt.figure(figsize=(8,5))\n",
    "sns.distplot(title_length)\n",
    "plt.grid()\n",
    "plt.title('Title length distribution')"
   ]
  },
  {
   "cell_type": "markdown",
   "metadata": {},
   "source": [
    "### save final dataset:"
   ]
  },
  {
   "cell_type": "code",
   "execution_count": 26,
   "metadata": {},
   "outputs": [],
   "source": [
    "preprocessed_data_all.to_csv(\"final_training_preprocessed.csv\",index=False)"
   ]
  },
  {
   "cell_type": "code",
   "execution_count": 186,
   "metadata": {},
   "outputs": [],
   "source": [
    "preprocessed_data_all = pd.read_csv(\"data_set/final_training_preprocessed.csv\")"
   ]
  },
  {
   "cell_type": "markdown",
   "metadata": {},
   "source": [
    "## Pre-processing Encoding of tags:"
   ]
  },
  {
   "cell_type": "code",
   "execution_count": 187,
   "metadata": {},
   "outputs": [],
   "source": [
    "vectorizer = CountVectorizer(tokenizer = lambda x: x.split(), binary='true')\n",
    "multilabel_y = vectorizer.fit_transform(preprocessed_data_all['Tags'])"
   ]
  },
  {
   "cell_type": "code",
   "execution_count": 188,
   "metadata": {},
   "outputs": [
    {
     "data": {
      "text/plain": [
       "42048"
      ]
     },
     "execution_count": 188,
     "metadata": {},
     "output_type": "execute_result"
    }
   ],
   "source": [
    "len(vectorizer.get_feature_names())"
   ]
  },
  {
   "cell_type": "code",
   "execution_count": 189,
   "metadata": {},
   "outputs": [],
   "source": [
    "def tags_to_choose(n):\n",
    "    t = multilabel_y.sum(axis=0).tolist()[0]\n",
    "    sorted_tags_i = sorted(range(len(t)), key=lambda i: t[i], reverse=True)\n",
    "    multilabel_yn=multilabel_y[:,sorted_tags_i[:n]]\n",
    "    return multilabel_yn\n",
    "\n",
    "def questions_explained_fn(n):\n",
    "    multilabel_yn = tags_to_choose(n)\n",
    "    x= multilabel_yn.sum(axis=1)\n",
    "    return (np.count_nonzero(x==0))"
   ]
  },
  {
   "cell_type": "code",
   "execution_count": 190,
   "metadata": {},
   "outputs": [
    {
     "name": "stderr",
     "output_type": "stream",
     "text": [
      "100%|████████████████████████████████████████████████████████████████████████████████| 420/420 [05:20<00:00,  1.45it/s]\n"
     ]
    }
   ],
   "source": [
    "questions_explained = []\n",
    "total_tags=multilabel_y.shape[1]\n",
    "total_qs=preprocessed_data_all.shape[0]\n",
    "for i in tqdm(range(100, total_tags, 100)):\n",
    "    questions_explained.append(np.round(((total_qs-questions_explained_fn(i))/total_qs)*100,3))"
   ]
  },
  {
   "cell_type": "code",
   "execution_count": 191,
   "metadata": {},
   "outputs": [],
   "source": [
    "num_tags = []\n",
    "tags_covered = []\n",
    "\n",
    "num_tags.append(10)\n",
    "tags_covered.append((np.round(((total_qs-questions_explained_fn(10))/total_qs)*100,3)))\n",
    "\n",
    "num_tags.append(50)\n",
    "tags_covered.append((np.round(((total_qs-questions_explained_fn(50))/total_qs)*100,3)))"
   ]
  },
  {
   "cell_type": "code",
   "execution_count": 192,
   "metadata": {},
   "outputs": [],
   "source": [
    "i=100\n",
    "for x in questions_explained:\n",
    "    num_tags.append(i)\n",
    "    tags_covered.append(x)\n",
    "    i+=100"
   ]
  },
  {
   "cell_type": "code",
   "execution_count": 194,
   "metadata": {},
   "outputs": [
    {
     "name": "stdout",
     "output_type": "stream",
     "text": [
      "10 45.818\n",
      "50 68.539\n",
      "100 76.505\n",
      "200 83.168\n",
      "300 86.261\n",
      "400 88.408\n",
      "500 90.021\n",
      "600 91.219\n",
      "700 92.143\n",
      "800 92.893\n",
      "900 93.696\n",
      "1000 94.171\n",
      "1100 94.558\n",
      "1200 94.844\n",
      "1300 95.255\n",
      "1400 95.54\n",
      "1500 95.819\n",
      "1600 96.092\n",
      "1700 96.317\n",
      "1800 96.519\n"
     ]
    }
   ],
   "source": [
    "for x,y in zip(num_tags[:20], tags_covered[:20]):\n",
    "    print(x, y)"
   ]
  },
  {
   "cell_type": "code",
   "execution_count": 195,
   "metadata": {},
   "outputs": [
    {
     "data": {
      "image/png": "[encoded data removed]",
      "text/plain": [
       "<Figure size 432x288 with 1 Axes>"
      ]
     },
     "metadata": {},
     "output_type": "display_data"
    }
   ],
   "source": [
    "plt.plot(num_tags, tags_covered)\n",
    "plt.grid()\n",
    "plt.show()"
   ]
  },
  {
   "cell_type": "code",
   "execution_count": 196,
   "metadata": {},
   "outputs": [
    {
     "name": "stdout",
     "output_type": "stream",
     "text": [
      "number of questions that are not covered : 981172 out of  4176076\n",
      "% of questions that are not covered : 23.49507049201212\n",
      "% of questions that are covered : 76.50492950798788\n"
     ]
    }
   ],
   "source": [
    "# we will be taking 100 tags\n",
    "num_of_tags=100\n",
    "multilabel_yx = tags_to_choose(num_of_tags)\n",
    "print(\"number of questions that are not covered :\", questions_explained_fn(num_of_tags),\"out of \", total_qs)\n",
    "print(\"% of questions that are not covered :\", (questions_explained_fn(num_of_tags)/total_qs)*100.0)\n",
    "print(\"% of questions that are covered :\", 100-(questions_explained_fn(num_of_tags)/total_qs)*100.0)"
   ]
  },
  {
   "cell_type": "code",
   "execution_count": 197,
   "metadata": {},
   "outputs": [
    {
     "name": "stdout",
     "output_type": "stream",
     "text": [
      "Number of tags in sample : 42048\n",
      "number of tags taken : 100 ( 0.2378234398782344 %)\n"
     ]
    }
   ],
   "source": [
    "print(\"Number of tags in sample :\", multilabel_y.shape[1])\n",
    "print(\"number of tags taken :\", multilabel_yx.shape[1],\"(\",(multilabel_yx.shape[1]/multilabel_y.shape[1])*100,\"%)\")"
   ]
  },
  {
   "cell_type": "markdown",
   "metadata": {},
   "source": [
    "## Masking DataFrame:"
   ]
  },
  {
   "cell_type": "code",
   "execution_count": 198,
   "metadata": {},
   "outputs": [],
   "source": [
    "tags=[x[0] for x in tag_dict_sort[:100]]"
   ]
  },
  {
   "cell_type": "code",
   "execution_count": 199,
   "metadata": {},
   "outputs": [
    {
     "data": {
      "text/plain": [
       "100"
      ]
     },
     "execution_count": 199,
     "metadata": {},
     "output_type": "execute_result"
    }
   ],
   "source": [
    "len(tags)"
   ]
  },
  {
   "cell_type": "code",
   "execution_count": 200,
   "metadata": {},
   "outputs": [],
   "source": [
    "count=[]\n",
    "for i,x in (enumerate(preprocessed_data_all[\"Tags\"])):\n",
    "    for tag in x.split():\n",
    "        if(tag in tags):\n",
    "            count.append(i)\n",
    "            break"
   ]
  },
  {
   "cell_type": "code",
   "execution_count": 201,
   "metadata": {},
   "outputs": [
    {
     "data": {
      "text/plain": [
       "3194904"
      ]
     },
     "execution_count": 201,
     "metadata": {},
     "output_type": "execute_result"
    }
   ],
   "source": [
    "len(count)"
   ]
  },
  {
   "cell_type": "code",
   "execution_count": 202,
   "metadata": {},
   "outputs": [],
   "source": [
    "count = count[:100000]"
   ]
  },
  {
   "cell_type": "code",
   "execution_count": 203,
   "metadata": {},
   "outputs": [],
   "source": [
    "preprocessed_data_all = preprocessed_data_all.iloc[count]"
   ]
  },
  {
   "cell_type": "code",
   "execution_count": 204,
   "metadata": {},
   "outputs": [
    {
     "data": {
      "text/plain": [
       "(100000, 6)"
      ]
     },
     "execution_count": 204,
     "metadata": {},
     "output_type": "execute_result"
    }
   ],
   "source": [
    "preprocessed_data_all.shape"
   ]
  },
  {
   "cell_type": "code",
   "execution_count": 205,
   "metadata": {},
   "outputs": [],
   "source": [
    "vectorizer = CountVectorizer(tokenizer = lambda x: x.split(), binary='true')\n",
    "multilabel_y = vectorizer.fit_transform(preprocessed_data_all['Tags'])"
   ]
  },
  {
   "cell_type": "code",
   "execution_count": 206,
   "metadata": {},
   "outputs": [
    {
     "data": {
      "text/plain": [
       "16200"
      ]
     },
     "execution_count": 206,
     "metadata": {},
     "output_type": "execute_result"
    }
   ],
   "source": [
    "len(vectorizer.get_feature_names())"
   ]
  },
  {
   "cell_type": "code",
   "execution_count": 207,
   "metadata": {},
   "outputs": [],
   "source": [
    "num_of_tags=100\n",
    "multilabel_yx = tags_to_choose(num_of_tags)"
   ]
  },
  {
   "cell_type": "code",
   "execution_count": 208,
   "metadata": {},
   "outputs": [
    {
     "data": {
      "text/plain": [
       "<100000x100 sparse matrix of type '<class 'numpy.int64'>'\n",
       "\twith 157041 stored elements in Compressed Sparse Row format>"
      ]
     },
     "execution_count": 208,
     "metadata": {},
     "output_type": "execute_result"
    }
   ],
   "source": [
    "multilabel_yx"
   ]
  },
  {
   "cell_type": "markdown",
   "metadata": {},
   "source": [
    "### Saving final dataset:"
   ]
  },
  {
   "cell_type": "code",
   "execution_count": 209,
   "metadata": {},
   "outputs": [],
   "source": [
    "preprocessed_data_all.to_csv(\"data/final_dataset_train_1L_100_tags.csv\",index=False)"
   ]
  },
  {
   "cell_type": "code",
   "execution_count": 210,
   "metadata": {},
   "outputs": [],
   "source": [
    "scipy.sparse.save_npz('data/class_label_1L_100_tags_sparse_matrix.npz', multilabel_yx)"
   ]
  },
  {
   "cell_type": "code",
   "execution_count": 213,
   "metadata": {},
   "outputs": [],
   "source": [
    "multilabel_yx = scipy.sparse.load_npz(\"data/class_label_1L_100_tags_sparse_matrix.npz\")"
   ]
  },
  {
   "cell_type": "code",
   "execution_count": 214,
   "metadata": {},
   "outputs": [],
   "source": [
    "preprocessed_data_all = pd.read_csv(\"data/final_dataset_train_1L_100_tags.csv\")"
   ]
  },
  {
   "cell_type": "markdown",
   "metadata": {},
   "source": [
    "## Train-Test Split:"
   ]
  },
  {
   "cell_type": "code",
   "execution_count": 215,
   "metadata": {},
   "outputs": [],
   "source": [
    "train_size=70000\n",
    "\n",
    "x_train = preprocessed_data_all[:train_size]\n",
    "x_test = preprocessed_data_all[train_size:]\n",
    "\n",
    "y_train = multilabel_yx[:train_size]\n",
    "y_test = multilabel_yx[train_size:]"
   ]
  },
  {
   "cell_type": "code",
   "execution_count": 216,
   "metadata": {},
   "outputs": [
    {
     "name": "stdout",
     "output_type": "stream",
     "text": [
      "Number of data points in train data : (70000, 100)\n",
      "Number of data points in test data : (30000, 100)\n"
     ]
    }
   ],
   "source": [
    "print(\"Number of data points in train data :\", y_train.shape)\n",
    "print(\"Number of data points in test data :\", y_test.shape)"
   ]
  },
  {
   "cell_type": "code",
   "execution_count": 217,
   "metadata": {},
   "outputs": [
    {
     "name": "stdout",
     "output_type": "stream",
     "text": [
      "Number of data points in train data : (70000, 6)\n",
      "Number of data points in test data : (30000, 6)\n"
     ]
    }
   ],
   "source": [
    "print(\"Number of data points in train data :\", x_train.shape)\n",
    "print(\"Number of data points in test data :\", x_test.shape)"
   ]
  },
  {
   "cell_type": "code",
   "execution_count": 218,
   "metadata": {},
   "outputs": [
    {
     "data": {
      "text/html": [
       "<div>\n",
       "<style scoped>\n",
       "    .dataframe tbody tr th:only-of-type {\n",
       "        vertical-align: middle;\n",
       "    }\n",
       "\n",
       "    .dataframe tbody tr th {\n",
       "        vertical-align: top;\n",
       "    }\n",
       "\n",
       "    .dataframe thead th {\n",
       "        text-align: right;\n",
       "    }\n",
       "</style>\n",
       "<table border=\"1\" class=\"dataframe\">\n",
       "  <thead>\n",
       "    <tr style=\"text-align: right;\">\n",
       "      <th></th>\n",
       "      <th>Id</th>\n",
       "      <th>Title</th>\n",
       "      <th>Question</th>\n",
       "      <th>code</th>\n",
       "      <th>is_code</th>\n",
       "      <th>Tags</th>\n",
       "    </tr>\n",
       "  </thead>\n",
       "  <tbody>\n",
       "    <tr>\n",
       "      <th>0</th>\n",
       "      <td>1</td>\n",
       "      <td>check upload file imag without mime type</td>\n",
       "      <td>like check upload file imag file e.g png jpg j...</td>\n",
       "      <td>NaN</td>\n",
       "      <td>0</td>\n",
       "      <td>php image-processing file-upload upload mime-t...</td>\n",
       "    </tr>\n",
       "    <tr>\n",
       "      <th>1</th>\n",
       "      <td>2</td>\n",
       "      <td>prevent firefox close press ctrl-w</td>\n",
       "      <td>favorit editor vim regular use ctrl-w execut c...</td>\n",
       "      <td>NaN</td>\n",
       "      <td>0</td>\n",
       "      <td>firefox</td>\n",
       "    </tr>\n",
       "    <tr>\n",
       "      <th>2</th>\n",
       "      <td>3</td>\n",
       "      <td>r error invalid type list variabl</td>\n",
       "      <td>import matlab file construct data frame matlab...</td>\n",
       "      <td>error in model . frame . default ( formula = e...</td>\n",
       "      <td>1</td>\n",
       "      <td>r matlab machine-learning</td>\n",
       "    </tr>\n",
       "    <tr>\n",
       "      <th>3</th>\n",
       "      <td>4</td>\n",
       "      <td>replac special charact url</td>\n",
       "      <td>probabl simpl simpli find answer basicali want...</td>\n",
       "      <td>NaN</td>\n",
       "      <td>0</td>\n",
       "      <td>c# url encoding</td>\n",
       "    </tr>\n",
       "    <tr>\n",
       "      <th>4</th>\n",
       "      <td>5</td>\n",
       "      <td>modifi whoi contact detail</td>\n",
       "      <td>use modifi function display warn mesag pleas h...</td>\n",
       "      <td>function modify ( . . . . . ) { $ mcontact = f...</td>\n",
       "      <td>1</td>\n",
       "      <td>php api file-get-contents</td>\n",
       "    </tr>\n",
       "  </tbody>\n",
       "</table>\n",
       "</div>"
      ],
      "text/plain": [
       "   Id                                     Title  \\\n",
       "0   1  check upload file imag without mime type   \n",
       "1   2        prevent firefox close press ctrl-w   \n",
       "2   3         r error invalid type list variabl   \n",
       "3   4                replac special charact url   \n",
       "4   5                modifi whoi contact detail   \n",
       "\n",
       "                                            Question  \\\n",
       "0  like check upload file imag file e.g png jpg j...   \n",
       "1  favorit editor vim regular use ctrl-w execut c...   \n",
       "2  import matlab file construct data frame matlab...   \n",
       "3  probabl simpl simpli find answer basicali want...   \n",
       "4  use modifi function display warn mesag pleas h...   \n",
       "\n",
       "                                                code  is_code  \\\n",
       "0                                                NaN        0   \n",
       "1                                                NaN        0   \n",
       "2  error in model . frame . default ( formula = e...        1   \n",
       "3                                                NaN        0   \n",
       "4  function modify ( . . . . . ) { $ mcontact = f...        1   \n",
       "\n",
       "                                                Tags  \n",
       "0  php image-processing file-upload upload mime-t...  \n",
       "1                                            firefox  \n",
       "2                          r matlab machine-learning  \n",
       "3                                    c# url encoding  \n",
       "4                          php api file-get-contents  "
      ]
     },
     "execution_count": 218,
     "metadata": {},
     "output_type": "execute_result"
    }
   ],
   "source": [
    "x_train.head()"
   ]
  },
  {
   "cell_type": "markdown",
   "metadata": {},
   "source": [
    "# Featurizing data with BoW vectorizer "
   ]
  },
  {
   "cell_type": "code",
   "execution_count": 219,
   "metadata": {},
   "outputs": [],
   "source": [
    "train_text = x_train['Title']+\" \"+x_train['Question']\n",
    "test_text = x_test['Title']+\" \"+x_test['Question']"
   ]
  },
  {
   "cell_type": "code",
   "execution_count": 220,
   "metadata": {},
   "outputs": [],
   "source": [
    "vectorizer = CountVectorizer(min_df=0.00009, max_features=200000, tokenizer = lambda x: x.split())\n",
    "x_train_multilabel = vectorizer.fit_transform(train_text)\n",
    "x_test_multilabel = vectorizer.transform(test_text)"
   ]
  },
  {
   "cell_type": "code",
   "execution_count": 221,
   "metadata": {},
   "outputs": [
    {
     "data": {
      "text/plain": [
       "10583"
      ]
     },
     "execution_count": 221,
     "metadata": {},
     "output_type": "execute_result"
    }
   ],
   "source": [
    "len(vectorizer.get_feature_names())"
   ]
  },
  {
   "cell_type": "markdown",
   "metadata": {},
   "source": [
    "## Logistic Regression:"
   ]
  },
  {
   "cell_type": "code",
   "execution_count": 222,
   "metadata": {},
   "outputs": [
    {
     "name": "stdout",
     "output_type": "stream",
     "text": [
      "Time taken to run this cell : 0:03:24.252219\n"
     ]
    }
   ],
   "source": [
    "start = datetime.now()\n",
    "classifier = OneVsRestClassifier(LogisticRegression(C=1.0, penalty='l1'))\n",
    "classifier.fit(x_train_multilabel, y_train)\n",
    "predictions = classifier.predict(x_test_multilabel)\n",
    "print(\"Time taken to run this cell :\", datetime.now() - start)"
   ]
  },
  {
   "cell_type": "code",
   "execution_count": 223,
   "metadata": {},
   "outputs": [
    {
     "name": "stdout",
     "output_type": "stream",
     "text": [
      "Accuracy : 0.29413333333333336\n",
      "Hamming loss  0.011663666666666666\n"
     ]
    }
   ],
   "source": [
    "print(\"Accuracy :\",metrics.accuracy_score(y_test, predictions))\n",
    "print(\"Hamming loss \",metrics.hamming_loss(y_test,predictions))"
   ]
  },
  {
   "cell_type": "code",
   "execution_count": 224,
   "metadata": {},
   "outputs": [
    {
     "name": "stdout",
     "output_type": "stream",
     "text": [
      "Micro-average quality numbers\n",
      "Precision: 0.6799, Recall: 0.4869, F1-measure: 0.5674\n"
     ]
    }
   ],
   "source": [
    "#micro f1 score\n",
    "precision = precision_score(y_test, predictions, average='micro')\n",
    "recall = recall_score(y_test, predictions, average='micro')\n",
    "f1 = f1_score(y_test, predictions, average='micro')\n",
    " \n",
    "print(\"Micro-average quality numbers\")\n",
    "print(\"Precision: {:.4f}, Recall: {:.4f}, F1-measure: {:.4f}\".format(precision, recall, f1))"
   ]
  },
  {
   "cell_type": "code",
   "execution_count": 225,
   "metadata": {},
   "outputs": [
    {
     "name": "stdout",
     "output_type": "stream",
     "text": [
      "Log loss :  16.98659956256289\n"
     ]
    }
   ],
   "source": [
    "print(\"Log loss : \",metrics.log_loss(y_test.todense(), predictions.todense()))"
   ]
  },
  {
   "cell_type": "code",
   "execution_count": 226,
   "metadata": {},
   "outputs": [],
   "source": [
    "matrix = metrics.confusion_matrix(y_test.argmax(axis=1), predictions.argmax(axis=1))"
   ]
  },
  {
   "cell_type": "code",
   "execution_count": 227,
   "metadata": {},
   "outputs": [
    {
     "data": {
      "image/png": "[encoded data removed]",
      "text/plain": [
       "<Figure size 864x576 with 2 Axes>"
      ]
     },
     "metadata": {},
     "output_type": "display_data"
    }
   ],
   "source": [
    "plt.figure(figsize=(12,8))\n",
    "sns.heatmap(matrix[:10,:10], annot=True, fmt=\"d\",xticklabels=tags[:10],yticklabels=tags[:10])\n",
    "plt.show()"
   ]
  },
  {
   "cell_type": "markdown",
   "metadata": {},
   "source": [
    "#### save the model"
   ]
  },
  {
   "cell_type": "code",
   "execution_count": 99,
   "metadata": {},
   "outputs": [],
   "source": [
    "with open('models/LR_title_question.pkl', 'wb') as f:\n",
    "    pickle.dump(classifier, f)"
   ]
  },
  {
   "cell_type": "markdown",
   "metadata": {},
   "source": [
    "## Random Forest"
   ]
  },
  {
   "cell_type": "code",
   "execution_count": 229,
   "metadata": {},
   "outputs": [],
   "source": [
    "from sklearn.ensemble import RandomForestClassifier"
   ]
  },
  {
   "cell_type": "code",
   "execution_count": 230,
   "metadata": {},
   "outputs": [
    {
     "name": "stdout",
     "output_type": "stream",
     "text": [
      "Time taken to run this cell : 0:03:43.006813\n"
     ]
    }
   ],
   "source": [
    "start = datetime.now()\n",
    "classifier = OneVsRestClassifier(RandomForestClassifier(n_jobs=-1))\n",
    "classifier.fit(x_train_multilabel, y_train)\n",
    "predictions = classifier.predict(x_test_multilabel)\n",
    "print(\"Time taken to run this cell :\", datetime.now() - start)"
   ]
  },
  {
   "cell_type": "code",
   "execution_count": 231,
   "metadata": {},
   "outputs": [
    {
     "name": "stdout",
     "output_type": "stream",
     "text": [
      "Accuracy : 0.195\n",
      "Hamming loss  0.012655666666666667\n"
     ]
    }
   ],
   "source": [
    "print(\"Accuracy :\",metrics.accuracy_score(y_test, predictions))\n",
    "print(\"Hamming loss \",metrics.hamming_loss(y_test,predictions))"
   ]
  },
  {
   "cell_type": "code",
   "execution_count": 232,
   "metadata": {},
   "outputs": [
    {
     "name": "stdout",
     "output_type": "stream",
     "text": [
      "Micro-average quality numbers\n",
      "Precision: 0.8272, Recall: 0.2459, F1-measure: 0.3791\n"
     ]
    }
   ],
   "source": [
    "#micro f1 score\n",
    "precision = precision_score(y_test, predictions, average='micro')\n",
    "recall = recall_score(y_test, predictions, average='micro')\n",
    "f1 = f1_score(y_test, predictions, average='micro')\n",
    " \n",
    "print(\"Micro-average quality numbers\")\n",
    "print(\"Precision: {:.4f}, Recall: {:.4f}, F1-measure: {:.4f}\".format(precision, recall, f1))"
   ]
  },
  {
   "cell_type": "code",
   "execution_count": 104,
   "metadata": {},
   "outputs": [
    {
     "name": "stdout",
     "output_type": "stream",
     "text": [
      "Log loss :  14.365051612818375\n"
     ]
    }
   ],
   "source": [
    "print(\"Log loss : \",metrics.log_loss(y_test.todense(), predictions.todense()))"
   ]
  },
  {
   "cell_type": "code",
   "execution_count": 233,
   "metadata": {},
   "outputs": [],
   "source": [
    "matrix = metrics.confusion_matrix(y_test.argmax(axis=1), predictions.argmax(axis=1))"
   ]
  },
  {
   "cell_type": "code",
   "execution_count": 234,
   "metadata": {},
   "outputs": [
    {
     "data": {
      "image/png": "[encoded data removed]",
      "text/plain": [
       "<Figure size 864x576 with 2 Axes>"
      ]
     },
     "metadata": {},
     "output_type": "display_data"
    }
   ],
   "source": [
    "plt.figure(figsize=(12,8))\n",
    "sns.heatmap(matrix[:10,:10], annot=True, fmt=\"d\",xticklabels=tags[:10],yticklabels=tags[:10])\n",
    "plt.show()"
   ]
  },
  {
   "cell_type": "markdown",
   "metadata": {},
   "source": [
    "## Model using (3 times repetition of title) + question:"
   ]
  },
  {
   "cell_type": "code",
   "execution_count": 235,
   "metadata": {},
   "outputs": [],
   "source": [
    "train_text = x_train['Title']+\" \"+x_train['Title']+\" \"+x_train['Title']+\" \"+x_train['Question']\n",
    "test_text = x_test['Title']+\" \"+x_test['Title']+\" \"+x_test['Title']+\" \"+x_test['Question']"
   ]
  },
  {
   "cell_type": "code",
   "execution_count": 236,
   "metadata": {},
   "outputs": [],
   "source": [
    "vectorizer = CountVectorizer(min_df=0.00009, max_features=200000, tokenizer = lambda x: x.split())\n",
    "x_train_multilabel = vectorizer.fit_transform(train_text)\n",
    "x_test_multilabel = vectorizer.transform(test_text)"
   ]
  },
  {
   "cell_type": "code",
   "execution_count": 237,
   "metadata": {},
   "outputs": [
    {
     "data": {
      "text/plain": [
       "10583"
      ]
     },
     "execution_count": 237,
     "metadata": {},
     "output_type": "execute_result"
    }
   ],
   "source": [
    "len(vectorizer.get_feature_names())"
   ]
  },
  {
   "cell_type": "code",
   "execution_count": 238,
   "metadata": {},
   "outputs": [
    {
     "name": "stdout",
     "output_type": "stream",
     "text": [
      "Dimensions of train data X: (70000, 10583) Y : (70000, 100)\n",
      "Dimensions of test data X: (30000, 10583) Y: (30000, 100)\n"
     ]
    }
   ],
   "source": [
    "print(\"Dimensions of train data X:\",x_train_multilabel.shape, \"Y :\",y_train.shape)\n",
    "print(\"Dimensions of test data X:\",x_test_multilabel.shape,\"Y:\",y_test.shape)"
   ]
  },
  {
   "cell_type": "markdown",
   "metadata": {},
   "source": [
    "# Logistic Regression:"
   ]
  },
  {
   "cell_type": "code",
   "execution_count": 239,
   "metadata": {},
   "outputs": [
    {
     "name": "stdout",
     "output_type": "stream",
     "text": [
      "Time taken to run this cell : 0:03:21.293704\n"
     ]
    }
   ],
   "source": [
    "start = datetime.now()\n",
    "classifier = OneVsRestClassifier(LogisticRegression(C=1.0, penalty='l1'))\n",
    "classifier.fit(x_train_multilabel, y_train)\n",
    "predictions = classifier.predict(x_test_multilabel)\n",
    "print(\"Time taken to run this cell :\", datetime.now() - start)"
   ]
  },
  {
   "cell_type": "code",
   "execution_count": 240,
   "metadata": {},
   "outputs": [
    {
     "name": "stdout",
     "output_type": "stream",
     "text": [
      "Accuracy : 0.30593333333333333\n",
      "Hamming loss  0.011598\n"
     ]
    }
   ],
   "source": [
    "print(\"Accuracy :\",metrics.accuracy_score(y_test, predictions))\n",
    "print(\"Hamming loss \",metrics.hamming_loss(y_test,predictions))"
   ]
  },
  {
   "cell_type": "code",
   "execution_count": 241,
   "metadata": {},
   "outputs": [
    {
     "name": "stdout",
     "output_type": "stream",
     "text": [
      "Micro-average quality numbers\n",
      "Precision: 0.6749, Recall: 0.5053, F1-measure: 0.5779\n"
     ]
    }
   ],
   "source": [
    "#micro f1 score\n",
    "precision = precision_score(y_test, predictions, average='micro')\n",
    "recall = recall_score(y_test, predictions, average='micro')\n",
    "f1 = f1_score(y_test, predictions, average='micro')\n",
    " \n",
    "print(\"Micro-average quality numbers\")\n",
    "print(\"Precision: {:.4f}, Recall: {:.4f}, F1-measure: {:.4f}\".format(precision, recall, f1))"
   ]
  },
  {
   "cell_type": "code",
   "execution_count": 242,
   "metadata": {},
   "outputs": [
    {
     "name": "stdout",
     "output_type": "stream",
     "text": [
      "Log loss :  17.322222754217513\n"
     ]
    }
   ],
   "source": [
    "print(\"Log loss : \",metrics.log_loss(y_test.todense(), predictions.todense()))"
   ]
  },
  {
   "cell_type": "code",
   "execution_count": 243,
   "metadata": {},
   "outputs": [],
   "source": [
    "matrix = metrics.confusion_matrix(y_test.argmax(axis=1), predictions.argmax(axis=1))"
   ]
  },
  {
   "cell_type": "code",
   "execution_count": 244,
   "metadata": {},
   "outputs": [
    {
     "data": {
      "image/png": "[encoded data removed]",
      "text/plain": [
       "<Figure size 864x576 with 2 Axes>"
      ]
     },
     "metadata": {},
     "output_type": "display_data"
    }
   ],
   "source": [
    "plt.figure(figsize=(12,8))\n",
    "sns.heatmap(matrix[:10,:10], annot=True, fmt=\"d\",xticklabels=tags[:10],yticklabels=tags[:10])\n",
    "plt.show()"
   ]
  },
  {
   "cell_type": "markdown",
   "metadata": {},
   "source": [
    "## Random Forest:"
   ]
  },
  {
   "cell_type": "code",
   "execution_count": 245,
   "metadata": {},
   "outputs": [
    {
     "name": "stdout",
     "output_type": "stream",
     "text": [
      "Time taken to run this cell : 0:03:50.002062\n"
     ]
    }
   ],
   "source": [
    "start = datetime.now()\n",
    "classifier = OneVsRestClassifier(RandomForestClassifier(n_jobs=-1))\n",
    "classifier.fit(x_train_multilabel, y_train)\n",
    "predictions = classifier.predict(x_test_multilabel)\n",
    "print(\"Time taken to run this cell :\", datetime.now() - start)"
   ]
  },
  {
   "cell_type": "code",
   "execution_count": 246,
   "metadata": {},
   "outputs": [
    {
     "name": "stdout",
     "output_type": "stream",
     "text": [
      "Accuracy : 0.20873333333333333\n",
      "Hamming loss  0.012365\n"
     ]
    }
   ],
   "source": [
    "print(\"Accuracy :\",metrics.accuracy_score(y_test, predictions))\n",
    "print(\"Hamming loss \",metrics.hamming_loss(y_test,predictions))"
   ]
  },
  {
   "cell_type": "code",
   "execution_count": 247,
   "metadata": {},
   "outputs": [
    {
     "name": "stdout",
     "output_type": "stream",
     "text": [
      "Micro-average quality numbers\n",
      "Precision: 0.8453, Recall: 0.2607, F1-measure: 0.3985\n"
     ]
    }
   ],
   "source": [
    "#micro f1 score\n",
    "precision = precision_score(y_test, predictions, average='micro')\n",
    "recall = recall_score(y_test, predictions, average='micro')\n",
    "f1 = f1_score(y_test, predictions, average='micro')\n",
    " \n",
    "print(\"Micro-average quality numbers\")\n",
    "print(\"Precision: {:.4f}, Recall: {:.4f}, F1-measure: {:.4f}\".format(precision, recall, f1))"
   ]
  },
  {
   "cell_type": "code",
   "execution_count": 248,
   "metadata": {},
   "outputs": [
    {
     "name": "stdout",
     "output_type": "stream",
     "text": [
      "Log loss :  14.199067707428602\n"
     ]
    }
   ],
   "source": [
    "print(\"Log loss : \",metrics.log_loss(y_test.todense(), predictions.todense()))"
   ]
  },
  {
   "cell_type": "code",
   "execution_count": 249,
   "metadata": {},
   "outputs": [],
   "source": [
    "matrix = metrics.confusion_matrix(y_test.argmax(axis=1), predictions.argmax(axis=1))"
   ]
  },
  {
   "cell_type": "code",
   "execution_count": 250,
   "metadata": {},
   "outputs": [
    {
     "data": {
      "image/png": "[encoded data removed]",
      "text/plain": [
       "<Figure size 864x576 with 2 Axes>"
      ]
     },
     "metadata": {},
     "output_type": "display_data"
    }
   ],
   "source": [
    "plt.figure(figsize=(12,8))\n",
    "sns.heatmap(matrix[:10,:10], annot=True, fmt=\"d\",xticklabels=tags[:10],yticklabels=tags[:10])\n",
    "plt.show()"
   ]
  },
  {
   "cell_type": "code",
   "execution_count": null,
   "metadata": {},
   "outputs": [],
   "source": []
  },
  {
   "cell_type": "markdown",
   "metadata": {},
   "source": [
    "## Model using (3 times repetition of title) + question+code with bag of words representation:"
   ]
  },
  {
   "cell_type": "code",
   "execution_count": 251,
   "metadata": {},
   "outputs": [],
   "source": [
    "x_train[\"code\"]=x_train[\"code\"].fillna(\" \")\n",
    "x_test[\"code\"]=x_test[\"code\"].fillna(\" \")"
   ]
  },
  {
   "cell_type": "code",
   "execution_count": 252,
   "metadata": {},
   "outputs": [],
   "source": [
    "train_text = x_train['Title']+\" \"+x_train['Title']+\" \"+x_train['Title']+\" \"+x_train['Question']+\" \"+x_train[\"code\"]\n",
    "test_text = x_test['Title']+\" \"+x_test['Title']+\" \"+x_test['Title']+\" \"+x_test['Question']+\" \"+x_test[\"code\"]"
   ]
  },
  {
   "cell_type": "code",
   "execution_count": 253,
   "metadata": {},
   "outputs": [],
   "source": [
    "vectorizer = CountVectorizer(min_df=0.00009, max_features=200000, tokenizer = lambda x: x.split())\n",
    "x_train_multilabel = vectorizer.fit_transform(train_text)\n",
    "x_test_multilabel = vectorizer.transform(test_text)"
   ]
  },
  {
   "cell_type": "code",
   "execution_count": 254,
   "metadata": {},
   "outputs": [
    {
     "data": {
      "text/plain": [
       "20669"
      ]
     },
     "execution_count": 254,
     "metadata": {},
     "output_type": "execute_result"
    }
   ],
   "source": [
    "len(vectorizer.get_feature_names())"
   ]
  },
  {
   "cell_type": "markdown",
   "metadata": {},
   "source": [
    "# Logistic Regression:"
   ]
  },
  {
   "cell_type": "code",
   "execution_count": 255,
   "metadata": {},
   "outputs": [
    {
     "name": "stdout",
     "output_type": "stream",
     "text": [
      "Time taken to run this cell : 0:07:25.908047\n"
     ]
    }
   ],
   "source": [
    "start = datetime.now()\n",
    "classifier = OneVsRestClassifier(LogisticRegression(C=1.0, penalty='l1'))\n",
    "classifier.fit(x_train_multilabel, y_train)\n",
    "predictions = classifier.predict(x_test_multilabel)\n",
    "print(\"Time taken to run this cell :\", datetime.now() - start)"
   ]
  },
  {
   "cell_type": "code",
   "execution_count": 256,
   "metadata": {},
   "outputs": [
    {
     "name": "stdout",
     "output_type": "stream",
     "text": [
      "Accuracy : 0.3103\n",
      "Hamming loss  0.011607\n"
     ]
    }
   ],
   "source": [
    "print(\"Accuracy :\",metrics.accuracy_score(y_test, predictions))\n",
    "print(\"Hamming loss \",metrics.hamming_loss(y_test,predictions))"
   ]
  },
  {
   "cell_type": "code",
   "execution_count": 257,
   "metadata": {},
   "outputs": [
    {
     "name": "stdout",
     "output_type": "stream",
     "text": [
      "Micro-average quality numbers\n",
      "Precision: 0.6591, Recall: 0.5411, F1-measure: 0.5943\n"
     ]
    }
   ],
   "source": [
    "#micro f1 score\n",
    "precision = precision_score(y_test, predictions, average='micro')\n",
    "recall = recall_score(y_test, predictions, average='micro')\n",
    "f1 = f1_score(y_test, predictions, average='micro')\n",
    " \n",
    "print(\"Micro-average quality numbers\")\n",
    "print(\"Precision: {:.4f}, Recall: {:.4f}, F1-measure: {:.4f}\".format(precision, recall, f1))"
   ]
  },
  {
   "cell_type": "code",
   "execution_count": 258,
   "metadata": {},
   "outputs": [
    {
     "name": "stdout",
     "output_type": "stream",
     "text": [
      "Log loss :  17.333186396156883\n"
     ]
    }
   ],
   "source": [
    "print(\"Log loss : \",metrics.log_loss(y_test.todense(), predictions.todense()))"
   ]
  },
  {
   "cell_type": "code",
   "execution_count": 259,
   "metadata": {},
   "outputs": [],
   "source": [
    "matrix = metrics.confusion_matrix(y_test.argmax(axis=1), predictions.argmax(axis=1))"
   ]
  },
  {
   "cell_type": "code",
   "execution_count": 260,
   "metadata": {},
   "outputs": [
    {
     "data": {
      "image/png": "[encoded data removed]",
      "text/plain": [
       "<Figure size 864x576 with 2 Axes>"
      ]
     },
     "metadata": {},
     "output_type": "display_data"
    }
   ],
   "source": [
    "plt.figure(figsize=(12,8))\n",
    "sns.heatmap(matrix[:10,:10], annot=True, fmt=\"d\",xticklabels=tags[:10],yticklabels=tags[:10])\n",
    "plt.show()"
   ]
  },
  {
   "cell_type": "markdown",
   "metadata": {},
   "source": [
    "#### save the model:"
   ]
  },
  {
   "cell_type": "code",
   "execution_count": 261,
   "metadata": {},
   "outputs": [],
   "source": [
    "tags=[x[0] for x in tag_dict_sort[:100]]"
   ]
  },
  {
   "cell_type": "code",
   "execution_count": 262,
   "metadata": {},
   "outputs": [],
   "source": [
    "with open('models/tags_list.txt', 'w') as f:\n",
    "    for item in tags:\n",
    "        f.write(\"%s \" % item)"
   ]
  },
  {
   "cell_type": "code",
   "execution_count": null,
   "metadata": {},
   "outputs": [],
   "source": []
  },
  {
   "cell_type": "markdown",
   "metadata": {},
   "source": [
    "## Getting best model by hyperparameter tuning:"
   ]
  },
  {
   "cell_type": "markdown",
   "metadata": {},
   "source": [
    "## Hyperparameter Tuning Logistic Regression:"
   ]
  },
  {
   "cell_type": "code",
   "execution_count": 265,
   "metadata": {},
   "outputs": [
    {
     "name": "stdout",
     "output_type": "stream",
     "text": [
      "C: 0.01\n",
      "Accuracy : 0.2665 Hamming loss  0.011159 Log loss :  14.499217238636405\n",
      "Precision: 0.8063, Recall: 0.3814, F1-measure: 0.5178\n",
      "\n",
      "C: 0.1\n",
      "Accuracy : 0.32343333333333335 Hamming loss  0.010359666666666666 Log loss :  15.26503079793445\n",
      "Precision: 0.7776, Recall: 0.4771, F1-measure: 0.5913\n",
      "\n",
      "C: 0.5\n",
      "Accuracy : 0.3262 Hamming loss  0.010874 Log loss :  16.5520758545018\n",
      "Precision: 0.7068, Recall: 0.5261, F1-measure: 0.6032\n",
      "\n",
      "C: 1\n",
      "Accuracy : 0.31033333333333335 Hamming loss  0.011607333333333334 Log loss :  17.34856297256734\n",
      "Precision: 0.6592, Recall: 0.5410, F1-measure: 0.5942\n",
      "\n",
      "C: 5\n",
      "Accuracy : 0.25816666666666666 Hamming loss  0.014120333333333334 Log loss :  19.29331095364872\n",
      "Precision: 0.5501, Recall: 0.5566, F1-measure: 0.5533\n",
      "\n",
      "C: 10\n",
      "Accuracy : 0.23733333333333334 Hamming loss  0.015114 Log loss :  19.944799383990915\n",
      "Precision: 0.5177, Recall: 0.5574, F1-measure: 0.5368\n",
      "\n"
     ]
    }
   ],
   "source": [
    "for c in [10**-2,10**-1,5*10**-1,1,5,10]:\n",
    "    classifier = OneVsRestClassifier(LogisticRegression(C=c, penalty='l1'))\n",
    "    classifier.fit(x_train_multilabel, y_train)\n",
    "    predictions = classifier.predict(x_test_multilabel)\n",
    "    acc = metrics.accuracy_score(y_test, predictions)\n",
    "    hl = metrics.hamming_loss(y_test,predictions)\n",
    "    precision = precision_score(y_test, predictions, average='micro')\n",
    "    recall = recall_score(y_test, predictions, average='micro')\n",
    "    f1 = f1_score(y_test, predictions, average='micro')\n",
    "    ll = metrics.log_loss(y_test.todense(), predictions.todense())\n",
    "    print(\"C:\",c)\n",
    "    print(\"Accuracy :\",acc,\"Hamming loss \",hl,\"Log loss : \",ll)\n",
    "    print(\"Precision: {:.4f}, Recall: {:.4f}, F1-measure: {:.4f}\".format(precision, recall, f1))\n",
    "    print()"
   ]
  },
  {
   "cell_type": "markdown",
   "metadata": {},
   "source": [
    "### best model"
   ]
  },
  {
   "cell_type": "code",
   "execution_count": 266,
   "metadata": {},
   "outputs": [],
   "source": [
    "classifier = OneVsRestClassifier(LogisticRegression(C=0.5, penalty='l1'))\n",
    "classifier.fit(x_train_multilabel, y_train)\n",
    "predictions = classifier.predict(x_test_multilabel)"
   ]
  },
  {
   "cell_type": "code",
   "execution_count": 267,
   "metadata": {},
   "outputs": [
    {
     "data": {
      "text/plain": [
       "0.6032691980248596"
      ]
     },
     "execution_count": 267,
     "metadata": {},
     "output_type": "execute_result"
    }
   ],
   "source": [
    "f1_score(y_test, predictions, average='micro')"
   ]
  },
  {
   "cell_type": "code",
   "execution_count": 269,
   "metadata": {},
   "outputs": [],
   "source": [
    "matrix = metrics.confusion_matrix(y_test.argmax(axis=1), predictions.argmax(axis=1))"
   ]
  },
  {
   "cell_type": "code",
   "execution_count": 270,
   "metadata": {},
   "outputs": [
    {
     "data": {
      "image/png": "[encoded data removed]",
      "text/plain": [
       "<Figure size 864x576 with 2 Axes>"
      ]
     },
     "metadata": {},
     "output_type": "display_data"
    }
   ],
   "source": [
    "plt.figure(figsize=(12,8))\n",
    "sns.heatmap(matrix[:10,:10], annot=True, fmt=\"d\",xticklabels=tags[:10],yticklabels=tags[:10])\n",
    "plt.show()"
   ]
  },
  {
   "cell_type": "markdown",
   "metadata": {},
   "source": [
    "#### save the model:"
   ]
  },
  {
   "cell_type": "code",
   "execution_count": 271,
   "metadata": {},
   "outputs": [],
   "source": [
    "with open('model/LR_3title_question_code_model.pkl', 'wb') as f:\n",
    "    pickle.dump(classifier, f)"
   ]
  },
  {
   "cell_type": "code",
   "execution_count": 276,
   "metadata": {},
   "outputs": [],
   "source": [
    "with open('model/x_train_multilabel.pickle', 'wb') as f:\n",
    "    pickle.dump(x_train_multilabel, f)"
   ]
  },
  {
   "cell_type": "code",
   "execution_count": 277,
   "metadata": {},
   "outputs": [],
   "source": [
    "with open('model/x_train_multilabel_vocal.pickle', 'wb') as f:\n",
    "    pickle.dump(vectorizer.vocabulary_, f)"
   ]
  },
  {
   "cell_type": "markdown",
   "metadata": {},
   "source": [
    "#### Precision and Recall score of each top 100 tags:"
   ]
  },
  {
   "cell_type": "code",
   "execution_count": 278,
   "metadata": {},
   "outputs": [],
   "source": [
    "from prettytable import PrettyTable"
   ]
  },
  {
   "cell_type": "code",
   "execution_count": 279,
   "metadata": {},
   "outputs": [],
   "source": [
    "pt = PrettyTable([\"TAG\", \"PRECISION\", \"RECALL\"])\n",
    "\n",
    "precision_score = []\n",
    "for i in range(100):\n",
    "    score=0\n",
    "    for j in range(100):\n",
    "        score+=matrix[i][j]\n",
    "    precision_score.append(matrix[i][i]/score)\n",
    "    \n",
    "recall_score = []\n",
    "for i in range(100):\n",
    "    score=0\n",
    "    for j in range(100):\n",
    "        score+=matrix[j][i]\n",
    "    recall_score.append(matrix[i][i]/score)\n",
    "    \n",
    "for tag,p_score,r_score in zip(tags,precision_score,recall_score):\n",
    "    pt.add_row([tag, p_score, r_score])"
   ]
  },
  {
   "cell_type": "code",
   "execution_count": 280,
   "metadata": {},
   "outputs": [
    {
     "name": "stdout",
     "output_type": "stream",
     "text": [
      "+--------------------+---------------------+---------------------+\n",
      "|        TAG         |      PRECISION      |        RECALL       |\n",
      "+--------------------+---------------------+---------------------+\n",
      "|         c#         |  0.7571658615136876 | 0.26746302616609785 |\n",
      "|        java        |  0.6327137546468401 |  0.8054898248935163 |\n",
      "|        php         |  0.7048597392335045 |  0.8454976303317535 |\n",
      "|     javascript     |  0.5156468939747781 |  0.6930320150659134 |\n",
      "|      android       |  0.7874285714285715 |  0.8574984443061605 |\n",
      "|       jquery       |  0.5924491771539206 |  0.5845272206303725 |\n",
      "|        c++         |  0.6427480916030535 |  0.839481555333998  |\n",
      "|       python       |  0.765045342126958  |  0.8880382775119617 |\n",
      "|       iphone       |  0.523931623931624  |  0.6736263736263737 |\n",
      "|      asp.net       | 0.42113564668769715 |  0.5350701402805611 |\n",
      "|       mysql        |  0.6536585365853659 |  0.708994708994709  |\n",
      "|        html        |  0.3361884368308351 | 0.49683544303797467 |\n",
      "|        .net        | 0.20956719817767655 | 0.36947791164658633 |\n",
      "|        ios         | 0.26752767527675275 | 0.49828178694158076 |\n",
      "|    objective-c     |  0.2727272727272727 | 0.47692307692307695 |\n",
      "|        sql         |      0.39453125     |  0.4938875305623472 |\n",
      "|        css         |  0.451505016722408  |  0.4192546583850932 |\n",
      "|   ruby-on-rails    |  0.4598639455782313 |  0.6614481409001957 |\n",
      "|       linux        |  0.6629370629370629 |  0.7657512116316639 |\n",
      "|         c          | 0.26258205689277897 | 0.42402826855123676 |\n",
      "|      windows       |  0.4103194103194103 |  0.6423076923076924 |\n",
      "|        ruby        | 0.24621212121212122 |  0.4140127388535032 |\n",
      "|     sql-server     |  0.5042372881355932 |  0.6918604651162791 |\n",
      "|        wpf         |  0.5378151260504201 |  0.5844748858447488 |\n",
      "|        xml         | 0.41843971631205673 | 0.43703703703703706 |\n",
      "|        ajax        |  0.2682926829268293 |  0.3793103448275862 |\n",
      "|      database      | 0.09774436090225563 | 0.24074074074074073 |\n",
      "|       regex        |  0.290519877675841  |       0.59375       |\n",
      "|    asp.net-mvc     |  0.5826086956521739 | 0.47183098591549294 |\n",
      "|       xcode        | 0.29523809523809524 | 0.43661971830985913 |\n",
      "|       django       |   0.51010101010101  |  0.6392405063291139 |\n",
      "|       arrays       |  0.5878787878787879 |  0.5878787878787879 |\n",
      "|        osx         |  0.3076923076923077 |  0.3018867924528302 |\n",
      "|       vb.net       | 0.13953488372093023 | 0.10909090909090909 |\n",
      "|     windows-7      |  0.4626865671641791 |  0.5299145299145299 |\n",
      "|      eclipse       |  0.5693430656934306 |  0.5306122448979592 |\n",
      "|        json        |  0.5267175572519084 |  0.6052631578947368 |\n",
      "|      facebook      |  0.2549019607843137 | 0.24528301886792453 |\n",
      "|  ruby-on-rails-3   | 0.36046511627906974 |         0.62        |\n",
      "|       string       | 0.02666666666666667 | 0.14285714285714285 |\n",
      "|    performance     |         0.25        | 0.31343283582089554 |\n",
      "|   multithreading   |  0.3448275862068966 |  0.4716981132075472 |\n",
      "|      winforms      | 0.16666666666666666 | 0.14814814814814814 |\n",
      "|       ubuntu       | 0.18181818181818182 | 0.18181818181818182 |\n",
      "| visual-studio-2010 | 0.21428571428571427 |  0.2222222222222222 |\n",
      "|   asp.net-mvc-3    | 0.28735632183908044 | 0.35714285714285715 |\n",
      "|       image        | 0.15384615384615385 |  0.2926829268292683 |\n",
      "|       html5        |  0.4536082474226804 |  0.411214953271028  |\n",
      "|     networking     | 0.09411764705882353 |         0.2         |\n",
      "|      homework      | 0.43243243243243246 | 0.48484848484848486 |\n",
      "|     wordpress      |  0.4807692307692308 |  0.5617977528089888 |\n",
      "|      security      |  0.5241379310344828 |  0.8735632183908046 |\n",
      "|        wcf         |  0.3482142857142857 | 0.48148148148148145 |\n",
      "|        bash        |  0.3968253968253968 |  0.5208333333333334 |\n",
      "|       forms        | 0.13725490196078433 | 0.16666666666666666 |\n",
      "|     algorithm      | 0.24489795918367346 |  0.3333333333333333 |\n",
      "|    web-services    | 0.24050632911392406 |  0.3877551020408163 |\n",
      "|       query        | 0.34782608695652173 |  0.3137254901960784 |\n",
      "|   visual-studio    |         0.1         | 0.23076923076923078 |\n",
      "|        linq        | 0.10810810810810811 |  0.2857142857142857 |\n",
      "|       oracle       |  0.4225352112676056 |  0.4225352112676056 |\n",
      "|        git         |  0.8636363636363636 |  0.8417721518987342 |\n",
      "|  sql-server-2008   |  0.4840764331210191 |  0.7169811320754716 |\n",
      "|        perl        |         0.0         |         0.0         |\n",
      "|         r          |  0.6198347107438017 |       0.78125       |\n",
      "|       spring       |  0.4090909090909091 |        0.375        |\n",
      "|       apache       |  0.4246575342465753 |  0.5254237288135594 |\n",
      "|        ipad        |  0.0784313725490196 | 0.19047619047619047 |\n",
      "|   actionscript-3   |  0.4639175257731959 |        0.625        |\n",
      "|       flash        | 0.22105263157894736 | 0.28378378378378377 |\n",
      "|       swing        | 0.47368421052631576 |         0.48        |\n",
      "|    silverlight     |  0.273972602739726  |  0.4166666666666667 |\n",
      "|    cocoa-touch     | 0.22131147540983606 |         0.5         |\n",
      "|       cocoa        |         0.0         |         0.0         |\n",
      "|     hibernate      | 0.30158730158730157 | 0.35185185185185186 |\n",
      "|       excel        |  0.6338028169014085 |  0.8490566037735849 |\n",
      "|       email        |  0.2833333333333333 |  0.3469387755102041 |\n",
      "|  entity-framework  |  0.5714285714285714 |  0.7272727272727273 |\n",
      "|        file        | 0.02857142857142857 | 0.09090909090909091 |\n",
      "|        api         |         0.0         |         0.0         |\n",
      "|      apache2       |  0.1111111111111111 | 0.35714285714285715 |\n",
      "|     jquery-ui      | 0.19444444444444445 |  0.3181818181818182 |\n",
      "|        flex        |  0.3333333333333333 | 0.23809523809523808 |\n",
      "|        list        |       0.15625       | 0.20833333333333334 |\n",
      "|       delphi       | 0.09090909090909091 | 0.16666666666666666 |\n",
      "| internet-explorer  |         0.5         |  0.5573770491803278 |\n",
      "|       shell        | 0.07692307692307693 | 0.15384615384615385 |\n",
      "|      node.js       |  0.6605504587155964 |  0.8470588235294118 |\n",
      "|       sqlite       |  0.5223880597014925 |  0.5645161290322581 |\n",
      "|         qt         |  0.5679012345679012 |  0.7540983606557377 |\n",
      "|     .htaccess      | 0.20833333333333334 |  0.2777777777777778 |\n",
      "|        tsql        |  0.7291666666666666 | 0.49295774647887325 |\n",
      "|   google-chrome    |  0.4897959183673469 |  0.5454545454545454 |\n",
      "|      firefox       | 0.34615384615384615 |         0.5         |\n",
      "|        oop         | 0.21428571428571427 |         0.24        |\n",
      "|        http        | 0.20512820512820512 |         0.32        |\n",
      "|       matlab       |  0.6666666666666666 |  0.6190476190476191 |\n",
      "|    unit-testing    | 0.15384615384615385 | 0.13333333333333333 |\n",
      "|    codeigniter     |  0.6788990825688074 |  0.8222222222222222 |\n",
      "|        unix        | 0.15151515151515152 | 0.45454545454545453 |\n",
      "+--------------------+---------------------+---------------------+\n"
     ]
    }
   ],
   "source": [
    "print(pt)"
   ]
  },
  {
   "cell_type": "markdown",
   "metadata": {},
   "source": [
    "## Model using (3 times repetition of title) + question+code with Tf-IDF representation:"
   ]
  },
  {
   "cell_type": "code",
   "execution_count": 305,
   "metadata": {},
   "outputs": [],
   "source": [
    "vectorizer = TfidfVectorizer(min_df=0.00009, max_features=200000, tokenizer = lambda x: x.split())\n",
    "x_train_multilabel = vectorizer.fit_transform(train_text)\n",
    "x_test_multilabel = vectorizer.transform(test_text)"
   ]
  },
  {
   "cell_type": "code",
   "execution_count": 306,
   "metadata": {},
   "outputs": [
    {
     "data": {
      "text/plain": [
       "20669"
      ]
     },
     "execution_count": 306,
     "metadata": {},
     "output_type": "execute_result"
    }
   ],
   "source": [
    "len(vectorizer.get_feature_names())"
   ]
  },
  {
   "cell_type": "markdown",
   "metadata": {},
   "source": [
    "# Logistic Regression:"
   ]
  },
  {
   "cell_type": "code",
   "execution_count": 303,
   "metadata": {},
   "outputs": [],
   "source": [
    "from sklearn.metrics import f1_score,precision_score,recall_score"
   ]
  },
  {
   "cell_type": "code",
   "execution_count": 285,
   "metadata": {},
   "outputs": [
    {
     "name": "stdout",
     "output_type": "stream",
     "text": [
      "C: 0.01\n",
      "Accuracy : 0.11246666666666667 Hamming loss  0.013736666666666666 Log loss :  10.746330626691792\n",
      "Precision: 0.8977, Recall: 0.1419, F1-measure: 0.2450\n",
      "\n",
      "C: 0.1\n",
      "Accuracy : 0.2574 Hamming loss  0.011306 Log loss :  14.64542204209324\n",
      "Precision: 0.8166, Recall: 0.3616, F1-measure: 0.5013\n",
      "\n",
      "C: 0.5\n",
      "Accuracy : 0.31916666666666665 Hamming loss  0.010308333333333333 Log loss :  15.290660128971385\n",
      "Precision: 0.8020, Recall: 0.4566, F1-measure: 0.5819\n",
      "\n",
      "C: 1\n",
      "Accuracy : 0.3389666666666667 Hamming loss  0.01005 Log loss :  15.570531560607424\n",
      "Precision: 0.7943, Recall: 0.4863, F1-measure: 0.6033\n",
      "\n",
      "C: 5\n",
      "Accuracy : 0.34513333333333335 Hamming loss  0.010330333333333334 Log loss :  16.803348483503882\n",
      "Precision: 0.7403, Recall: 0.5276, F1-measure: 0.6161\n",
      "\n",
      "C: 10\n",
      "Accuracy : 0.3275 Hamming loss  0.010935 Log loss :  17.67350831359457\n",
      "Precision: 0.6978, Recall: 0.5362, F1-measure: 0.6064\n",
      "\n"
     ]
    }
   ],
   "source": [
    "for c in [10**-2,10**-1,5*10**-1,1,5,10]:\n",
    "    classifier = OneVsRestClassifier(LogisticRegression(C=c, penalty='l1'))\n",
    "    classifier.fit(x_train_multilabel, y_train)\n",
    "    predictions = classifier.predict(x_test_multilabel)\n",
    "    acc = metrics.accuracy_score(y_test, predictions)\n",
    "    hl = metrics.hamming_loss(y_test,predictions)\n",
    "    precision = precision_score(y_test, predictions, average='micro')\n",
    "    recall = recall_score(y_test, predictions, average='micro') \n",
    "    f1 = f1_score(y_test, predictions, average='micro')\n",
    "    ll = metrics.log_loss(y_test.todense(), predictions.todense())\n",
    "    print(\"C:\",c)\n",
    "    print(\"Accuracy :\",acc,\"Hamming loss \",hl,\"Log loss : \",ll)\n",
    "    print(\"Precision: {:.4f}, Recall: {:.4f}, F1-measure: {:.4f}\".format(precision, recall, f1))\n",
    "    print()"
   ]
  },
  {
   "cell_type": "code",
   "execution_count": 286,
   "metadata": {},
   "outputs": [
    {
     "name": "stdout",
     "output_type": "stream",
     "text": [
      "C: 0.7\n",
      "Accuracy : 0.3302333333333333 Hamming loss  0.010168333333333333 Log loss :  15.397592622738221\n",
      "Precision: 0.7987, Recall: 0.4717, F1-measure: 0.5931\n",
      "\n",
      "C: 0.9\n",
      "Accuracy : 0.33723333333333333 Hamming loss  0.010070666666666667 Log loss :  15.517287821466255\n",
      "Precision: 0.7962, Recall: 0.4825, F1-measure: 0.6009\n",
      "\n",
      "C: 2\n",
      "Accuracy : 0.3482 Hamming loss  0.009975 Log loss :  15.980425244034409\n",
      "Precision: 0.7799, Recall: 0.5086, F1-measure: 0.6157\n",
      "\n",
      "C: 3\n",
      "Accuracy : 0.35 Hamming loss  0.010048666666666666 Log loss :  16.31458459103611\n",
      "Precision: 0.7661, Recall: 0.5189, F1-measure: 0.6187\n",
      "\n",
      "C: 4\n",
      "Accuracy : 0.34776666666666667 Hamming loss  0.010205 Log loss :  16.639900120196923\n",
      "Precision: 0.7519, Recall: 0.5230, F1-measure: 0.6169\n",
      "\n",
      "C: 7\n",
      "Accuracy : 0.3375666666666667 Hamming loss  0.010600666666666666 Log loss :  17.20618175577899\n",
      "Precision: 0.7203, Recall: 0.5318, F1-measure: 0.6119\n",
      "\n"
     ]
    }
   ],
   "source": [
    "for c in [0.7,0.9,2,3,4,7]:\n",
    "    classifier = OneVsRestClassifier(LogisticRegression(C=c, penalty='l1'))\n",
    "    classifier.fit(x_train_multilabel, y_train)\n",
    "    predictions = classifier.predict(x_test_multilabel)\n",
    "    acc = metrics.accuracy_score(y_test, predictions)\n",
    "    hl = metrics.hamming_loss(y_test,predictions)\n",
    "    precision = precision_score(y_test, predictions, average='micro')\n",
    "    recall = recall_score(y_test, predictions, average='micro')\n",
    "    f1 = f1_score(y_test, predictions, average='micro')\n",
    "    ll = metrics.log_loss(y_test.todense(), predictions.todense())\n",
    "    print(\"C:\",c)\n",
    "    print(\"Accuracy :\",acc,\"Hamming loss \",hl,\"Log loss : \",ll)\n",
    "    print(\"Precision: {:.4f}, Recall: {:.4f}, F1-measure: {:.4f}\".format(precision, recall, f1))\n",
    "    print()"
   ]
  },
  {
   "cell_type": "markdown",
   "metadata": {},
   "source": [
    "## Best Model"
   ]
  },
  {
   "cell_type": "code",
   "execution_count": 307,
   "metadata": {},
   "outputs": [
    {
     "name": "stdout",
     "output_type": "stream",
     "text": [
      "Time taken to run this cell : 0:03:52.169984\n"
     ]
    }
   ],
   "source": [
    "start = datetime.now()\n",
    "classifier = OneVsRestClassifier(LogisticRegression(C=4, penalty='l1'))\n",
    "classifier.fit(x_train_multilabel, y_train)\n",
    "predictions = classifier.predict(x_test_multilabel)\n",
    "print(\"Time taken to run this cell :\", datetime.now() - start)"
   ]
  },
  {
   "cell_type": "code",
   "execution_count": 308,
   "metadata": {},
   "outputs": [
    {
     "name": "stdout",
     "output_type": "stream",
     "text": [
      "Accuracy : 0.3478333333333333\n",
      "Hamming loss  0.010203\n"
     ]
    }
   ],
   "source": [
    "print(\"Accuracy :\",metrics.accuracy_score(y_test, predictions))\n",
    "print(\"Hamming loss \",metrics.hamming_loss(y_test,predictions))"
   ]
  },
  {
   "cell_type": "code",
   "execution_count": 309,
   "metadata": {},
   "outputs": [
    {
     "name": "stdout",
     "output_type": "stream",
     "text": [
      "Micro-average quality numbers\n",
      "Precision: 0.7520, Recall: 0.5231, F1-measure: 0.6170\n"
     ]
    }
   ],
   "source": [
    "#micro f1 score\n",
    "precision = precision_score(y_test, predictions, average='micro')\n",
    "recall = recall_score(y_test, predictions, average='micro')\n",
    "f1 = f1_score(y_test, predictions, average='micro')\n",
    " \n",
    "print(\"Micro-average quality numbers\")\n",
    "print(\"Precision: {:.4f}, Recall: {:.4f}, F1-measure: {:.4f}\".format(precision, recall, f1))"
   ]
  },
  {
   "cell_type": "code",
   "execution_count": 310,
   "metadata": {},
   "outputs": [
    {
     "name": "stdout",
     "output_type": "stream",
     "text": [
      "Log loss :  16.63719281729978\n"
     ]
    }
   ],
   "source": [
    "print(\"Log loss : \",metrics.log_loss(y_test.todense(), predictions.todense()))"
   ]
  },
  {
   "cell_type": "code",
   "execution_count": 311,
   "metadata": {},
   "outputs": [],
   "source": [
    "matrix = metrics.confusion_matrix(y_test.argmax(axis=1), predictions.argmax(axis=1))"
   ]
  },
  {
   "cell_type": "code",
   "execution_count": 312,
   "metadata": {},
   "outputs": [
    {
     "data": {
      "image/png": "[encoded data removed]",
      "text/plain": [
       "<Figure size 864x576 with 2 Axes>"
      ]
     },
     "metadata": {},
     "output_type": "display_data"
    }
   ],
   "source": [
    "plt.figure(figsize=(12,8))\n",
    "sns.heatmap(matrix[:10,:10], annot=True, fmt=\"d\",xticklabels=tags[:10],yticklabels=tags[:10])\n",
    "plt.show()"
   ]
  },
  {
   "cell_type": "markdown",
   "metadata": {},
   "source": [
    "#### Precision and Recall score of each top 100 tags:"
   ]
  },
  {
   "cell_type": "code",
   "execution_count": 296,
   "metadata": {},
   "outputs": [],
   "source": [
    "pt = PrettyTable([\"TAG\", \"PRECISION\", \"RECALL\"])\n",
    "\n",
    "precision_score = []\n",
    "for i in range(100):\n",
    "    score=0\n",
    "    for j in range(100):\n",
    "        score+=matrix[i][j]\n",
    "    precision_score.append(matrix[i][i]/score)\n",
    "    \n",
    "recall_score = []\n",
    "for i in range(100):\n",
    "    score=0\n",
    "    for j in range(100):\n",
    "        score+=matrix[j][i]\n",
    "    recall_score.append(matrix[i][i]/score)\n",
    "    \n",
    "for tag,p_score,r_score in zip(tags,precision_score,recall_score):\n",
    "    pt.add_row([tag, p_score, r_score])"
   ]
  },
  {
   "cell_type": "code",
   "execution_count": 297,
   "metadata": {},
   "outputs": [
    {
     "name": "stdout",
     "output_type": "stream",
     "text": [
      "+--------------------+---------------------+---------------------+\n",
      "|        TAG         |      PRECISION      |        RECALL       |\n",
      "+--------------------+---------------------+---------------------+\n",
      "|         c#         |  0.7681159420289855 |  0.2716710331472833 |\n",
      "|        java        |  0.6468401486988847 |  0.828966174368747  |\n",
      "|        php         |  0.7178980640063216 |  0.8554613935969868 |\n",
      "|     javascript     |  0.5371321812237272 |  0.701647345942648  |\n",
      "|      android       |  0.8131428571428572 |  0.8687423687423688 |\n",
      "|       jquery       |  0.6060019361084221 |  0.5956232159847764 |\n",
      "|        c++         |  0.650381679389313  |   0.86497461928934  |\n",
      "|       python       |  0.761747732893652  |  0.8988326848249028 |\n",
      "|       iphone       |  0.541025641025641  |  0.6799140708915145 |\n",
      "|      asp.net       |  0.4400630914826498 |        0.5625       |\n",
      "|       mysql        |  0.6520325203252032 |  0.7357798165137615 |\n",
      "|        html        |  0.3683083511777302 |  0.5358255451713395 |\n",
      "|        .net        |  0.1867881548974943 |  0.3942307692307692 |\n",
      "|        ios         | 0.23247232472324722 | 0.47191011235955055 |\n",
      "|    objective-c     |  0.2903225806451613 | 0.47596153846153844 |\n",
      "|        sql         |     0.408203125     |  0.5036144578313253 |\n",
      "|        css         |  0.5217391304347826 |  0.4431818181818182 |\n",
      "|   ruby-on-rails    | 0.46938775510204084 |  0.7040816326530612 |\n",
      "|       linux        |  0.6811188811188811 |  0.7867528271405493 |\n",
      "|         c          |  0.2603938730853392 |  0.4311594202898551 |\n",
      "|      windows       | 0.45454545454545453 |  0.6630824372759857 |\n",
      "|        ruby        | 0.23863636363636365 |  0.4144736842105263 |\n",
      "|     sql-server     |  0.5211864406779662 |  0.7454545454545455 |\n",
      "|        wpf         |  0.5756302521008403 |  0.5805084745762712 |\n",
      "|        xml         | 0.45390070921985815 |  0.4383561643835616 |\n",
      "|        ajax        |  0.2073170731707317 | 0.40476190476190477 |\n",
      "|      database      | 0.16541353383458646 | 0.39285714285714285 |\n",
      "|       regex        | 0.29357798165137616 |  0.6075949367088608 |\n",
      "|    asp.net-mvc     |  0.6086956521739131 | 0.47619047619047616 |\n",
      "|       xcode        |  0.319047619047619  | 0.47183098591549294 |\n",
      "|       django       |  0.5252525252525253 |  0.6709677419354839 |\n",
      "|       arrays       |  0.6303030303030303 |  0.5777777777777777 |\n",
      "|        osx         |  0.3269230769230769 | 0.30357142857142855 |\n",
      "|       vb.net       | 0.13953488372093023 | 0.11764705882352941 |\n",
      "|     windows-7      | 0.44776119402985076 |  0.5263157894736842 |\n",
      "|      eclipse       |  0.6131386861313869 |         0.56        |\n",
      "|        json        | 0.46564885496183206 |  0.5700934579439252 |\n",
      "|      facebook      |  0.3137254901960784 |  0.2962962962962963 |\n",
      "|  ruby-on-rails-3   |  0.3953488372093023 |  0.6415094339622641 |\n",
      "|       string       |         0.0         |         0.0         |\n",
      "|    performance     |  0.2261904761904762 |  0.3275862068965517 |\n",
      "|   multithreading   |  0.3448275862068966 |  0.5154639175257731 |\n",
      "|      winforms      | 0.20833333333333334 |  0.2777777777777778 |\n",
      "|       ubuntu       | 0.21212121212121213 | 0.23333333333333334 |\n",
      "| visual-studio-2010 | 0.14285714285714285 | 0.15384615384615385 |\n",
      "|   asp.net-mvc-3    |  0.2988505747126437 |  0.4262295081967213 |\n",
      "|       image        | 0.15384615384615385 |  0.3333333333333333 |\n",
      "|       html5        |  0.5360824742268041 |  0.4369747899159664 |\n",
      "|     networking     | 0.12941176470588237 | 0.22916666666666666 |\n",
      "|      homework      |  0.4594594594594595 |  0.5151515151515151 |\n",
      "|     wordpress      | 0.49038461538461536 |  0.6219512195121951 |\n",
      "|      security      |  0.5724137931034483 |  0.9222222222222223 |\n",
      "|        wcf         | 0.36607142857142855 |  0.5189873417721519 |\n",
      "|        bash        |  0.3968253968253968 |  0.5319148936170213 |\n",
      "|       forms        | 0.11764705882352941 | 0.17647058823529413 |\n",
      "|     algorithm      | 0.30612244897959184 | 0.38461538461538464 |\n",
      "|    web-services    | 0.24050632911392406 |  0.4523809523809524 |\n",
      "|       query        | 0.32608695652173914 |  0.3333333333333333 |\n",
      "|   visual-studio    |         0.15        | 0.34615384615384615 |\n",
      "|        linq        | 0.05405405405405406 | 0.15384615384615385 |\n",
      "|       oracle       |  0.4647887323943662 |  0.4782608695652174 |\n",
      "|        git         |  0.8766233766233766 |  0.8653846153846154 |\n",
      "|  sql-server-2008   |  0.5159235668789809 |  0.7168141592920354 |\n",
      "|        perl        | 0.03571428571428571 |        0.125        |\n",
      "|         r          |  0.6694214876033058 |         0.81        |\n",
      "|       spring       |  0.4090909090909091 |  0.3103448275862069 |\n",
      "|       apache       |  0.410958904109589  |  0.4838709677419355 |\n",
      "|        ipad        | 0.11764705882352941 |         0.25        |\n",
      "|   actionscript-3   |  0.5154639175257731 |  0.6756756756756757 |\n",
      "|       flash        | 0.17894736842105263 | 0.32075471698113206 |\n",
      "|       swing        |  0.6052631578947368 |  0.5348837209302325 |\n",
      "|    silverlight     |  0.2602739726027397 |  0.4222222222222222 |\n",
      "|    cocoa-touch     |  0.2540983606557377 |  0.5961538461538461 |\n",
      "|       cocoa        |         0.0         |         0.0         |\n",
      "|     hibernate      |  0.3492063492063492 |  0.3728813559322034 |\n",
      "|       excel        |  0.6408450704225352 |  0.8584905660377359 |\n",
      "|       email        | 0.38333333333333336 | 0.42592592592592593 |\n",
      "|  entity-framework  |  0.6071428571428571 |  0.7391304347826086 |\n",
      "|        file        |         0.0         |         0.0         |\n",
      "|        api         |         0.0         |         0.0         |\n",
      "|      apache2       | 0.17777777777777778 | 0.34782608695652173 |\n",
      "|     jquery-ui      |  0.2222222222222222 | 0.36363636363636365 |\n",
      "|        flex        | 0.26666666666666666 | 0.19047619047619047 |\n",
      "|        list        |       0.15625       | 0.19230769230769232 |\n",
      "|       delphi       | 0.09090909090909091 |  0.2222222222222222 |\n",
      "| internet-explorer  | 0.47058823529411764 |  0.5079365079365079 |\n",
      "|       shell        | 0.15384615384615385 |  0.3076923076923077 |\n",
      "|      node.js       |  0.6422018348623854 |  0.8433734939759037 |\n",
      "|       sqlite       |  0.5074626865671642 |  0.576271186440678  |\n",
      "|         qt         |  0.5802469135802469 |  0.7230769230769231 |\n",
      "|     .htaccess      |  0.2916666666666667 |         0.35        |\n",
      "|        tsql        |  0.7083333333333334 |  0.5230769230769231 |\n",
      "|   google-chrome    |  0.5102040816326531 |  0.5208333333333334 |\n",
      "|      firefox       |  0.3076923076923077 | 0.48484848484848486 |\n",
      "|        oop         | 0.32142857142857145 |         0.3         |\n",
      "|        http        |  0.1794871794871795 |  0.3181818181818182 |\n",
      "|       matlab       |  0.6666666666666666 |  0.6190476190476191 |\n",
      "|    unit-testing    | 0.15384615384615385 |        0.125        |\n",
      "|    codeigniter     |  0.6880733944954128 |  0.8064516129032258 |\n",
      "|        unix        | 0.18181818181818182 |         0.4         |\n",
      "+--------------------+---------------------+---------------------+\n"
     ]
    }
   ],
   "source": [
    "print(pt)"
   ]
  },
  {
   "cell_type": "markdown",
   "metadata": {},
   "source": [
    "### save the model"
   ]
  },
  {
   "cell_type": "code",
   "execution_count": null,
   "metadata": {},
   "outputs": [],
   "source": []
  },
  {
   "cell_type": "code",
   "execution_count": null,
   "metadata": {},
   "outputs": [],
   "source": []
  },
  {
   "cell_type": "markdown",
   "metadata": {},
   "source": [
    "## Model using (3 times repetition of title) + question+code with Tf-IDF representation with ngram = (1,3):"
   ]
  },
  {
   "cell_type": "code",
   "execution_count": 315,
   "metadata": {},
   "outputs": [],
   "source": [
    "vectorizer = TfidfVectorizer(min_df=0.00009, max_features=400000, tokenizer = lambda x: x.split(), ngram_range=(1,4))\n",
    "x_train_multilabel = vectorizer.fit_transform(train_text)\n",
    "x_test_multilabel = vectorizer.transform(test_text)"
   ]
  },
  {
   "cell_type": "code",
   "execution_count": 316,
   "metadata": {},
   "outputs": [
    {
     "data": {
      "text/plain": [
       "233980"
      ]
     },
     "execution_count": 316,
     "metadata": {},
     "output_type": "execute_result"
    }
   ],
   "source": [
    "len(vectorizer.get_feature_names())"
   ]
  },
  {
   "cell_type": "markdown",
   "metadata": {},
   "source": [
    "# Logistic Regression:"
   ]
  },
  {
   "cell_type": "code",
   "execution_count": 317,
   "metadata": {},
   "outputs": [
    {
     "name": "stdout",
     "output_type": "stream",
     "text": [
      "Time taken to run this cell : 0:06:15.138178\n"
     ]
    }
   ],
   "source": [
    "start = datetime.now()\n",
    "classifier = OneVsRestClassifier(LogisticRegression(C=4, penalty='l1'))\n",
    "classifier.fit(x_train_multilabel, y_train)\n",
    "predictions = classifier.predict(x_test_multilabel)\n",
    "print(\"Time taken to run this cell :\", datetime.now() - start)"
   ]
  },
  {
   "cell_type": "code",
   "execution_count": 318,
   "metadata": {},
   "outputs": [
    {
     "name": "stdout",
     "output_type": "stream",
     "text": [
      "Accuracy : 0.3592666666666667\n",
      "Hamming loss  0.009910666666666667\n"
     ]
    }
   ],
   "source": [
    "print(\"Accuracy :\",metrics.accuracy_score(y_test, predictions))\n",
    "print(\"Hamming loss \",metrics.hamming_loss(y_test,predictions))"
   ]
  },
  {
   "cell_type": "code",
   "execution_count": 319,
   "metadata": {},
   "outputs": [
    {
     "name": "stdout",
     "output_type": "stream",
     "text": [
      "Micro-average quality numbers\n",
      "Precision: 0.7624, Recall: 0.5364, F1-measure: 0.6297\n"
     ]
    }
   ],
   "source": [
    "#micro f1 score\n",
    "precision = precision_score(y_test, predictions, average='micro')\n",
    "recall = recall_score(y_test, predictions, average='micro')\n",
    "f1 = f1_score(y_test, predictions, average='micro')\n",
    " \n",
    "print(\"Micro-average quality numbers\")\n",
    "print(\"Precision: {:.4f}, Recall: {:.4f}, F1-measure: {:.4f}\".format(precision, recall, f1))"
   ]
  },
  {
   "cell_type": "code",
   "execution_count": 320,
   "metadata": {},
   "outputs": [
    {
     "name": "stdout",
     "output_type": "stream",
     "text": [
      "Log loss :  16.388536688306985\n"
     ]
    }
   ],
   "source": [
    "print(\"Log loss : \",metrics.log_loss(y_test.todense(), predictions.todense()))"
   ]
  },
  {
   "cell_type": "code",
   "execution_count": 321,
   "metadata": {},
   "outputs": [],
   "source": [
    "matrix = metrics.confusion_matrix(y_test.argmax(axis=1), predictions.argmax(axis=1))"
   ]
  },
  {
   "cell_type": "code",
   "execution_count": 322,
   "metadata": {},
   "outputs": [
    {
     "data": {
      "image/png": "[encoded data removed]",
      "text/plain": [
       "<Figure size 864x576 with 2 Axes>"
      ]
     },
     "metadata": {},
     "output_type": "display_data"
    }
   ],
   "source": [
    "plt.figure(figsize=(12,8))\n",
    "sns.heatmap(matrix[:10,:10], annot=True, fmt=\"d\",xticklabels=tags[:10],yticklabels=tags[:10])\n",
    "plt.show()"
   ]
  },
  {
   "cell_type": "markdown",
   "metadata": {},
   "source": [
    "#### Precision and Recall score of each top 100 tags:"
   ]
  },
  {
   "cell_type": "code",
   "execution_count": 368,
   "metadata": {},
   "outputs": [],
   "source": [
    "pt = PrettyTable([\"TAG\", \"PRECISION\", \"RECALL\", \"F1-SCORE\"])\n",
    "\n",
    "precision_score = []\n",
    "for i in range(100):\n",
    "    score=0\n",
    "    for j in range(100):\n",
    "        score+=matrix[i][j]\n",
    "    if(score==0):\n",
    "        recall_score.append(0)\n",
    "    else:\n",
    "        precision_score.append(matrix[i][i]/score)\n",
    "    \n",
    "recall_score = []\n",
    "for i in range(100):\n",
    "    score=0\n",
    "    for j in range(100):\n",
    "        score+=matrix[j][i]\n",
    "    if(score==0):\n",
    "        recall_score.append(0)\n",
    "    else:\n",
    "        recall_score.append(matrix[i][i]/score)\n",
    "    \n",
    "f1_score = []\n",
    "for i in range(100):\n",
    "    p = precision_score[i]\n",
    "    r = recall_score[i]\n",
    "    if(p==0 and r==0):\n",
    "        f1_score.append(0)\n",
    "    else:\n",
    "        f1_score.append((2*p*r)/(p+r))\n",
    "    \n",
    "for tag,p_score,r_score,f1 in zip(tags,precision_score,recall_score,f1_score):\n",
    "    pt.add_row([tag, p_score, r_score, f1])"
   ]
  },
  {
   "cell_type": "code",
   "execution_count": 369,
   "metadata": {},
   "outputs": [
    {
     "name": "stdout",
     "output_type": "stream",
     "text": [
      "+--------------------+----------------------+---------------------+---------------------+\n",
      "|        TAG         |      PRECISION       |        RECALL       |       F1-SCORE      |\n",
      "+--------------------+----------------------+---------------------+---------------------+\n",
      "|         c#         |  0.7681159420289855  | 0.27937214478153916 | 0.40972341522075245 |\n",
      "|        java        |  0.6513011152416357  |  0.8311195445920304 |  0.7303042934556064 |\n",
      "|        php         |  0.7431845120505729  |  0.8581204379562044 |  0.7965276307431717 |\n",
      "|     javascript     |  0.5502101821578702  |  0.7152398299939283 |  0.6219640971488912 |\n",
      "|      android       |  0.8114285714285714  |  0.8663819402074435 |  0.8380053113012689 |\n",
      "|       jquery       |  0.6302032913843175  |  0.5977961432506887 |  0.6135721017907634 |\n",
      "|        c++         |  0.6694656488549618  |  0.8787575150300602 |  0.7599653379549393 |\n",
      "|       python       |  0.7716405605935697  |  0.9069767441860465 |  0.8338530066815144 |\n",
      "|       iphone       |  0.5290598290598291  |  0.6728260869565217 |  0.5923444976076555 |\n",
      "|      asp.net       | 0.43690851735015773  |  0.5676229508196722 |  0.4937611408199644 |\n",
      "|       mysql        |  0.6536585365853659  |  0.7416974169741697 |  0.6949006050129646 |\n",
      "|        html        |  0.3811563169164882  |  0.5085714285714286 | 0.43574051407588743 |\n",
      "|        .net        | 0.19134396355353075  |  0.4057971014492754 | 0.26006191950464397 |\n",
      "|        ios         | 0.25276752767527677  |  0.4823943661971831 | 0.33171912832929784 |\n",
      "|    objective-c     |  0.2932551319648094  |  0.4784688995215311 |  0.3636363636363637 |\n",
      "|        sql         |      0.4296875       |  0.5128205128205128 |  0.4675876726886291 |\n",
      "|        css         |  0.5217391304347826  | 0.46017699115044247 |  0.4890282131661442 |\n",
      "|   ruby-on-rails    | 0.45170068027210886  |  0.6916666666666667 |  0.5465020576131687 |\n",
      "|       linux        |  0.7090909090909091  |  0.7984251968503937 |  0.7511111111111113 |\n",
      "|         c          | 0.27571115973741794  | 0.47368421052631576 | 0.34854771784232363 |\n",
      "|      windows       |  0.4668304668304668  |  0.6666666666666666 |  0.5491329479768785 |\n",
      "|        ruby        |  0.2765151515151515  | 0.37823834196891193 | 0.31947483588621445 |\n",
      "|     sql-server     |  0.5720338983050848  |  0.7670454545454546 |  0.6553398058252428 |\n",
      "|        wpf         |  0.6008403361344538  |  0.5933609958506224 |  0.5970772442588727 |\n",
      "|        xml         | 0.46808510638297873  |  0.4647887323943662 |  0.4664310954063604 |\n",
      "|        ajax        | 0.21951219512195122  |        0.375        | 0.27692307692307694 |\n",
      "|      database      | 0.11278195488721804  | 0.25862068965517243 | 0.15706806282722513 |\n",
      "|       regex        |  0.3119266055045872  |  0.6623376623376623 | 0.42411642411642414 |\n",
      "|    asp.net-mvc     |  0.6434782608695652  |  0.4774193548387097 |  0.548148148148148  |\n",
      "|       xcode        |  0.3523809523809524  |        0.4625       |  0.4000000000000001 |\n",
      "|       django       |  0.5353535353535354  |  0.6928104575163399 |  0.603988603988604  |\n",
      "|       arrays       |         0.6          |         0.55        |  0.5739130434782609 |\n",
      "|        osx         |  0.3269230769230769  |  0.3469387755102041 |  0.3366336633663366 |\n",
      "|       vb.net       | 0.11627906976744186  | 0.10638297872340426 | 0.11111111111111112 |\n",
      "|     windows-7      | 0.44776119402985076  |  0.5405405405405406 |  0.489795918367347  |\n",
      "|      eclipse       |  0.6131386861313869  |  0.5490196078431373 |  0.5793103448275863 |\n",
      "|        json        | 0.46564885496183206  |  0.5922330097087378 |  0.5213675213675214 |\n",
      "|      facebook      | 0.35294117647058826  |  0.2903225806451613 |  0.3185840707964602 |\n",
      "|  ruby-on-rails-3   |  0.4069767441860465  |  0.660377358490566  |  0.5035971223021584 |\n",
      "|       string       |         0.0          |          0          |          0          |\n",
      "|    performance     |  0.2261904761904762  |  0.3275862068965517 |  0.2676056338028169 |\n",
      "|   multithreading   |  0.3448275862068966  |         0.5         | 0.40816326530612246 |\n",
      "|      winforms      |         0.25         | 0.21428571428571427 | 0.23076923076923075 |\n",
      "|       ubuntu       |  0.2727272727272727  | 0.24324324324324326 |  0.2571428571428572 |\n",
      "| visual-studio-2010 | 0.17857142857142858  | 0.16129032258064516 |  0.1694915254237288 |\n",
      "|   asp.net-mvc-3    | 0.28735632183908044  |  0.4032258064516129 |  0.3355704697986577 |\n",
      "|       image        | 0.11538461538461539  |        0.225        | 0.15254237288135594 |\n",
      "|       html5        |  0.5567010309278351  |  0.4122137404580153 |  0.4736842105263158 |\n",
      "|     networking     |  0.1411764705882353  |  0.3333333333333333 | 0.19834710743801653 |\n",
      "|      homework      |  0.4144144144144144  |  0.5348837209302325 | 0.46700507614213194 |\n",
      "|     wordpress      | 0.46153846153846156  |         0.64        |  0.5363128491620112 |\n",
      "|      security      |  0.5655172413793104  |  0.8631578947368421 |  0.6833333333333333 |\n",
      "|        wcf         | 0.38392857142857145  |  0.5308641975308642 | 0.44559585492227977 |\n",
      "|        bash        |  0.3492063492063492  |  0.4888888888888889 |  0.4074074074074074 |\n",
      "|       forms        |  0.1568627450980392  | 0.21621621621621623 | 0.18181818181818182 |\n",
      "|     algorithm      | 0.30612244897959184  | 0.38461538461538464 |  0.3409090909090909 |\n",
      "|    web-services    | 0.27848101265822783  |  0.4888888888888889 |  0.3548387096774194 |\n",
      "|       query        |  0.2391304347826087  | 0.36666666666666664 |  0.2894736842105263 |\n",
      "|   visual-studio    |         0.1          |  0.2608695652173913 | 0.14457831325301204 |\n",
      "|        linq        | 0.13513513513513514  | 0.22727272727272727 | 0.16949152542372883 |\n",
      "|       oracle       |  0.4507042253521127  | 0.49230769230769234 | 0.47058823529411764 |\n",
      "|        git         |  0.8766233766233766  |  0.8598726114649682 |  0.8681672025723473 |\n",
      "|  sql-server-2008   |  0.4968152866242038  |  0.6902654867256637 |  0.5777777777777777 |\n",
      "|        perl        | 0.03571428571428571  |         0.25        |        0.0625       |\n",
      "|         r          |  0.6942148760330579  |  0.7924528301886793 |  0.7400881057268722 |\n",
      "|       spring       | 0.36363636363636365  | 0.38095238095238093 | 0.37209302325581395 |\n",
      "|       apache       |  0.3972602739726027  | 0.47540983606557374 |  0.4328358208955224 |\n",
      "|        ipad        | 0.11764705882352941  |  0.2608695652173913 | 0.16216216216216217 |\n",
      "|   actionscript-3   |  0.5154639175257731  |  0.6666666666666666 |  0.5813953488372093 |\n",
      "|       flash        | 0.17894736842105263  | 0.27419354838709675 | 0.21656050955414013 |\n",
      "|       swing        |  0.5263157894736842  |  0.4878048780487805 |  0.5063291139240507 |\n",
      "|    silverlight     |  0.2191780821917808  | 0.35555555555555557 | 0.27118644067796605 |\n",
      "|    cocoa-touch     | 0.23770491803278687  |  0.5576923076923077 |  0.3333333333333333 |\n",
      "|       cocoa        |         0.0          |         0.0         |          0          |\n",
      "|     hibernate      |  0.3492063492063492  |       0.34375       |  0.3464566929133858 |\n",
      "|       excel        |  0.7323943661971831  |  0.8739495798319328 |  0.7969348659003833 |\n",
      "|       email        | 0.38333333333333336  | 0.41818181818181815 |         0.4         |\n",
      "|  entity-framework  |  0.6190476190476191  |  0.7761194029850746 |  0.6887417218543046 |\n",
      "|        file        | 0.02857142857142857  |         0.1         | 0.04444444444444444 |\n",
      "|        api         |         0.0          |         0.0         |          0          |\n",
      "|      apache2       | 0.17777777777777778  |  0.3333333333333333 | 0.23188405797101452 |\n",
      "|     jquery-ui      | 0.19444444444444445  |        0.4375       |  0.2692307692307693 |\n",
      "|        flex        |         0.2          | 0.17647058823529413 | 0.18750000000000003 |\n",
      "|        list        |       0.21875        |  0.2692307692307692 |  0.2413793103448276 |\n",
      "|       delphi       | 0.045454545454545456 |         0.2         | 0.07407407407407407 |\n",
      "| internet-explorer  |  0.5147058823529411  |       0.546875      |  0.5303030303030303 |\n",
      "|       shell        | 0.11538461538461539  |         0.25        | 0.15789473684210525 |\n",
      "|      node.js       |  0.6330275229357798  |  0.9078947368421053 |  0.745945945945946  |\n",
      "|       sqlite       |  0.4925373134328358  |  0.5789473684210527 |  0.532258064516129  |\n",
      "|         qt         |  0.5925925925925926  |  0.7272727272727273 |  0.6530612244897959 |\n",
      "|     .htaccess      |  0.3333333333333333  | 0.42105263157894735 |  0.372093023255814  |\n",
      "|        tsql        |  0.7708333333333334  |  0.5211267605633803 |  0.6218487394957983 |\n",
      "|   google-chrome    |  0.4897959183673469  |  0.5333333333333333 |  0.5106382978723404 |\n",
      "|      firefox       | 0.38461538461538464  |  0.5263157894736842 |  0.4444444444444444 |\n",
      "|        oop         | 0.21428571428571427  | 0.16666666666666666 |        0.1875       |\n",
      "|        http        |  0.1794871794871795  |  0.3684210526315789 |  0.2413793103448276 |\n",
      "|       matlab       |  0.5897435897435898  |  0.6052631578947368 |  0.5974025974025974 |\n",
      "|    unit-testing    |  0.3076923076923077  |         0.25        | 0.27586206896551724 |\n",
      "|    codeigniter     |  0.6788990825688074  |  0.8314606741573034 |  0.7474747474747474 |\n",
      "|        unix        | 0.18181818181818182  | 0.46153846153846156 | 0.26086956521739135 |\n"
     ]
    },
    {
     "name": "stdout",
     "output_type": "stream",
     "text": [
      "+--------------------+----------------------+---------------------+---------------------+\n"
     ]
    }
   ],
   "source": [
    "print(pt)"
   ]
  },
  {
   "cell_type": "code",
   "execution_count": 370,
   "metadata": {},
   "outputs": [
    {
     "data": {
      "image/png": "[encoded data removed]",
      "text/plain": [
       "<Figure size 1440x504 with 1 Axes>"
      ]
     },
     "metadata": {},
     "output_type": "display_data"
    }
   ],
   "source": [
    "plt.figure(figsize=(20,7))\n",
    "plt.bar(tags, f1_score)\n",
    "plt.xticks(tags, rotation=90)\n",
    "plt.ylabel(\"F1-Score\")\n",
    "\n",
    "plt.show()"
   ]
  },
  {
   "cell_type": "markdown",
   "metadata": {},
   "source": [
    "#### save the model:"
   ]
  },
  {
   "cell_type": "code",
   "execution_count": 325,
   "metadata": {},
   "outputs": [],
   "source": [
    "with open('model/LR_tfidf_3title_question_code_model.pkl', 'wb') as f:\n",
    "    pickle.dump(classifier, f)"
   ]
  },
  {
   "cell_type": "code",
   "execution_count": 333,
   "metadata": {},
   "outputs": [],
   "source": [
    "with open('model/x_tfidf_train_multilabel_vocal.pickle', 'wb') as f:\n",
    "    pickle.dump(vectorizer.vocabulary_, f)"
   ]
  },
  {
   "cell_type": "code",
   "execution_count": 334,
   "metadata": {},
   "outputs": [],
   "source": [
    "with open('model/x_tfidf_train_multilabel_idf.pickle', 'wb') as f:\n",
    "    pickle.dump(vectorizer.idf_, f)"
   ]
  },
  {
   "cell_type": "code",
   "execution_count": null,
   "metadata": {},
   "outputs": [],
   "source": []
  }
 ],
 "metadata": {
  "kernelspec": {
   "display_name": "Python 3",
   "language": "python",
   "name": "python3"
  },
  "language_info": {
   "codemirror_mode": {
    "name": "ipython",
    "version": 3
   },
   "file_extension": ".py",
   "mimetype": "text/x-python",
   "name": "python",
   "nbconvert_exporter": "python",
   "pygments_lexer": "ipython3",
   "version": "3.6.5"
  }
 },
 "nbformat": 4,
 "nbformat_minor": 2
}
